{
 "cells": [
  {
   "cell_type": "code",
   "execution_count": 133,
   "metadata": {
    "ExecuteTime": {
     "end_time": "2017-10-24T19:20:51.963702Z",
     "start_time": "2017-10-24T19:20:51.956680Z"
    },
    "init_cell": true
   },
   "outputs": [
    {
     "data": {
      "text/html": [
       "<style>.container { width:95% !important; }</style>"
      ],
      "text/plain": [
       "<IPython.core.display.HTML object>"
      ]
     },
     "metadata": {},
     "output_type": "display_data"
    }
   ],
   "source": [
    "from IPython.core.display import display, HTML\n",
    "display(HTML(\"<style>.container { width:95% !important; }</style>\"))"
   ]
  },
  {
   "cell_type": "code",
   "execution_count": 134,
   "metadata": {
    "ExecuteTime": {
     "end_time": "2017-10-24T19:20:52.019848Z",
     "start_time": "2017-10-24T19:20:51.966707Z"
    },
    "collapsed": true,
    "init_cell": true
   },
   "outputs": [],
   "source": [
    "import numpy as np\n",
    "import pandas as pd\n",
    "import random"
   ]
  },
  {
   "cell_type": "code",
   "execution_count": 135,
   "metadata": {
    "ExecuteTime": {
     "end_time": "2017-10-24T19:20:52.055946Z",
     "start_time": "2017-10-24T19:20:52.021855Z"
    },
    "code_folding": [
     0
    ],
    "collapsed": true,
    "init_cell": true
   },
   "outputs": [],
   "source": [
    "def generatesequences(init, tran, emis, seqnum):\n",
    "    corpus = {}\n",
    "    for i in range(0, seqnum):\n",
    "        curseq = []\n",
    "        for curpos in range(0, random.randint(30, 40)):\n",
    "            if curpos == 0:\n",
    "                curstate = np.random.choice(\n",
    "                    a=list(init.keys()), p=list(init.values()))\n",
    "            else:\n",
    "                curstate = np.random.choice(\n",
    "                    a=tran.columns.tolist(), p=tran.loc[curstate, :].tolist())\n",
    "            curseq.append(\n",
    "                np.random.choice(\n",
    "                    a=emis.columns.tolist(), p=emis.loc[curstate, :].tolist()))\n",
    "        curseq = tuple(curseq)\n",
    "        if curseq not in corpus:\n",
    "            corpus[curseq] = {'count': 1}\n",
    "        else:\n",
    "            corpus[curseq]['count'] += 1\n",
    "    return corpus"
   ]
  },
  {
   "cell_type": "code",
   "execution_count": 136,
   "metadata": {
    "ExecuteTime": {
     "end_time": "2017-10-24T19:20:52.086025Z",
     "start_time": "2017-10-24T19:20:52.057951Z"
    },
    "code_folding": [
     0,
     8
    ],
    "collapsed": true,
    "init_cell": true
   },
   "outputs": [],
   "source": [
    "def randomizedf(dfin):\n",
    "    for i in dfin.index:\n",
    "        for j in dfin.columns:\n",
    "            dfin.loc[i, j] = random.random()\n",
    "        priorsum = sum(dfin.loc[i, :])\n",
    "        dfin.loc[i, :] = dfin.loc[i, :] / priorsum\n",
    "    return dfin\n",
    "\n",
    "def randomizepriors(priors):\n",
    "    #init\n",
    "    for key in priors[0]:\n",
    "        priors[0][key] = random.random()\n",
    "    priorsum = sum(priors[0].values())\n",
    "    for key in priors[0]:\n",
    "        priors[0][key] = priors[0][key] / priorsum\n",
    "    for i in range(1, 2 + 1):\n",
    "        randomizedf(priors[i])\n",
    "\n",
    "    return priors"
   ]
  },
  {
   "cell_type": "code",
   "execution_count": 137,
   "metadata": {
    "ExecuteTime": {
     "end_time": "2017-10-24T19:20:52.113097Z",
     "start_time": "2017-10-24T19:20:52.088030Z"
    },
    "code_folding": [
     0
    ],
    "collapsed": true,
    "init_cell": true
   },
   "outputs": [],
   "source": [
    "def alpha(corpus, priors, states):\n",
    "    init = priors[0]\n",
    "    tran = priors[1]\n",
    "    emis = priors[2]\n",
    "    for sequence in corpus:\n",
    "        seqiter = range(0, len(sequence))\n",
    "        forward = pd.DataFrame(0, index=states, columns=seqiter)\n",
    "        for position in seqiter:\n",
    "            for state in states:\n",
    "                if position == 0:\n",
    "                    forward.loc[state, position] = init[state] * emis.loc[\n",
    "                        state, sequence[position]]\n",
    "                else:\n",
    "                    for prevstate in states:\n",
    "                        forward.loc[state, position] += forward.loc[\n",
    "                            prevstate, position - 1] * tran.loc[\n",
    "                                prevstate, state] * emis.loc[state, sequence[\n",
    "                                    position]]\n",
    "        corpus[sequence]['alpha'] = forward\n",
    "        corpus[sequence]['prob'] = sum(forward.loc[:, len(sequence) - 1])\n",
    "        forward = None\n",
    "    return corpus"
   ]
  },
  {
   "cell_type": "code",
   "execution_count": 138,
   "metadata": {
    "ExecuteTime": {
     "end_time": "2017-10-24T19:20:52.139165Z",
     "start_time": "2017-10-24T19:20:52.115102Z"
    },
    "code_folding": [
     0
    ],
    "collapsed": true,
    "init_cell": true
   },
   "outputs": [],
   "source": [
    "def beta(corpus, priors, states):\n",
    "    init = priors[0]\n",
    "    tran = priors[1]\n",
    "    emis = priors[2]\n",
    "    for sequence in corpus:\n",
    "        seqiter = range(len(sequence) - 1, -1, -1)\n",
    "        backward = pd.DataFrame(0, index=states, columns=seqiter)\n",
    "        for position in seqiter:\n",
    "            for state in states:\n",
    "                if position == len(sequence) - 1:\n",
    "                    backward.loc[state, position] = 1\n",
    "                else:\n",
    "                    for nextstate in states:\n",
    "                        backward.loc[state, position] += tran.loc[\n",
    "                            state, nextstate] * emis.loc[nextstate, sequence[\n",
    "                                position + 1]] * backward.loc[nextstate,\n",
    "                                                              position + 1]\n",
    "        corpus[sequence]['beta'] = backward\n",
    "        backward = None\n",
    "    return corpus"
   ]
  },
  {
   "cell_type": "code",
   "execution_count": 139,
   "metadata": {
    "ExecuteTime": {
     "end_time": "2017-10-24T19:20:52.167239Z",
     "start_time": "2017-10-24T19:20:52.142173Z"
    },
    "code_folding": [
     0
    ],
    "collapsed": true,
    "init_cell": true
   },
   "outputs": [],
   "source": [
    "def xi(corpus, priors, states):\n",
    "    init = priors[0]\n",
    "    tran = priors[1]\n",
    "    emis = priors[2]\n",
    "    for sequence in corpus:\n",
    "        seqiter = range(0, len(sequence) - 1)\n",
    "        path = pd.DataFrame(\n",
    "            0,\n",
    "            index=pd.MultiIndex.from_product([states, states]),\n",
    "            columns=seqiter)\n",
    "        for position in seqiter:\n",
    "            for state1 in states:\n",
    "                for state2 in states:\n",
    "                    path.loc[(state1, state2), position] = corpus[sequence][\n",
    "                        'alpha'].loc[state1, position] * tran.loc[\n",
    "                            state1, state2] * emis.loc[state2, sequence[\n",
    "                                position + 1]] * corpus[sequence]['beta'].loc[\n",
    "                                    state2, position + 1] / corpus[sequence][\n",
    "                                        'prob']\n",
    "        corpus[sequence]['xi'] = path\n",
    "    return corpus"
   ]
  },
  {
   "cell_type": "code",
   "execution_count": 140,
   "metadata": {
    "ExecuteTime": {
     "end_time": "2017-10-24T19:20:52.209352Z",
     "start_time": "2017-10-24T19:20:52.172254Z"
    },
    "code_folding": [
     0
    ],
    "collapsed": true,
    "init_cell": true
   },
   "outputs": [],
   "source": [
    "def gamma(corpus, priors, states):\n",
    "    init = priors[0]\n",
    "    tran = priors[1]\n",
    "    emis = priors[2]\n",
    "    for sequence in corpus:\n",
    "        seqiter = range(0, len(sequence))\n",
    "        single = pd.DataFrame(0, index=states, columns=seqiter)\n",
    "        for position in seqiter:\n",
    "            for state in states:\n",
    "                if position == len(sequence) - 1:\n",
    "                    single.loc[state, position] += corpus[sequence][\n",
    "                        'alpha'].loc[state, position] / corpus[sequence][\n",
    "                            'prob']\n",
    "                else:\n",
    "                    for nextstate in states:\n",
    "                        single.loc[state, position] += corpus[sequence][\n",
    "                            'xi'].loc[(state, nextstate), position]\n",
    "        corpus[sequence]['gamma'] = single\n",
    "    return corpus"
   ]
  },
  {
   "cell_type": "code",
   "execution_count": 141,
   "metadata": {
    "ExecuteTime": {
     "end_time": "2017-10-24T19:20:52.236423Z",
     "start_time": "2017-10-24T19:20:52.212360Z"
    },
    "code_folding": [
     0
    ],
    "collapsed": true,
    "init_cell": true
   },
   "outputs": [],
   "source": [
    "def getnewinit(corpus, states):\n",
    "    for state in states:\n",
    "        init[state] = 0\n",
    "    for seq in corpus:\n",
    "        for state in states:\n",
    "            init[state] += corpus[seq]['gamma'].loc[state, 0] * corpus[seq][\n",
    "                'count']\n",
    "    totinit = sum(init.values())\n",
    "    for state in states:\n",
    "        init[state] = init[state] / totinit\n",
    "    return init"
   ]
  },
  {
   "cell_type": "code",
   "execution_count": 142,
   "metadata": {
    "ExecuteTime": {
     "end_time": "2017-10-24T19:20:52.267507Z",
     "start_time": "2017-10-24T19:20:52.239431Z"
    },
    "code_folding": [
     0
    ],
    "collapsed": true,
    "init_cell": true
   },
   "outputs": [],
   "source": [
    "def getnewtran(corpus, states):\n",
    "    tran = pd.DataFrame(0, index=states, columns=states)\n",
    "    for sequence in corpus:\n",
    "        seqiter = range(0, len(sequence) - 1)\n",
    "        for position in seqiter:\n",
    "            for state1 in states:\n",
    "                for state2 in states:\n",
    "                    tran.loc[state1, state2] += corpus[sequence]['xi'].loc[(\n",
    "                        state1, state2), position] * corpus[sequence]['count']\n",
    "    for state1 in states:\n",
    "        statesum = sum(tran.loc[state1, :])\n",
    "        for state2 in states:\n",
    "            tran.loc[state1, state2] = tran.loc[state1, state2] / statesum\n",
    "    return tran"
   ]
  },
  {
   "cell_type": "code",
   "execution_count": 143,
   "metadata": {
    "ExecuteTime": {
     "end_time": "2017-10-24T19:20:52.301600Z",
     "start_time": "2017-10-24T19:20:52.269512Z"
    },
    "code_folding": [
     0
    ],
    "collapsed": true,
    "init_cell": true
   },
   "outputs": [],
   "source": [
    "def getnewemis(corpus, states, symbols):\n",
    "    emis = pd.DataFrame(0, index=states, columns=symbols)\n",
    "    for sequence in corpus:\n",
    "        seqiter = range(0, len(sequence))\n",
    "        for position in seqiter:\n",
    "            for state in states:\n",
    "                emis.loc[state, sequence[position]] += corpus[sequence][\n",
    "                    'gamma'].loc[state, position] * corpus[sequence]['count']\n",
    "    for state in states:\n",
    "        statesum = sum(emis.loc[state, :])\n",
    "        for symbol in symbols:\n",
    "            emis.loc[state, symbol] = emis.loc[state, symbol] / statesum\n",
    "    return emis"
   ]
  },
  {
   "cell_type": "code",
   "execution_count": 144,
   "metadata": {
    "ExecuteTime": {
     "end_time": "2017-10-24T19:20:52.335688Z",
     "start_time": "2017-10-24T19:20:52.306611Z"
    },
    "code_folding": [
     0
    ],
    "collapsed": true,
    "init_cell": true
   },
   "outputs": [],
   "source": [
    "def loglike(corpus, priors, states):\n",
    "    loglike = 0\n",
    "    init = priors[0]\n",
    "    tran = priors[1]\n",
    "    emis = priors[2]\n",
    "    for sequence in corpus:\n",
    "        seqiter = range(0, len(sequence))\n",
    "        forward = pd.DataFrame(0, index=states, columns=seqiter)\n",
    "        for position in seqiter:\n",
    "            for state in states:\n",
    "                if position == 0:\n",
    "                    forward.loc[state, position] = init[state] * emis.loc[\n",
    "                        state, sequence[position]]\n",
    "                else:\n",
    "                    for prevstate in states:\n",
    "                        forward.loc[state, position] += forward.loc[\n",
    "                            prevstate, position - 1] * tran.loc[\n",
    "                                prevstate, state] * emis.loc[state, sequence[\n",
    "                                    position]]\n",
    "        loglike += corpus[sequence]['count'] * np.log(\n",
    "            sum(forward.loc[:, len(sequence) - 1]))\n",
    "    return loglike"
   ]
  },
  {
   "cell_type": "code",
   "execution_count": 145,
   "metadata": {
    "ExecuteTime": {
     "end_time": "2017-10-24T19:20:52.359753Z",
     "start_time": "2017-10-24T19:20:52.337693Z"
    },
    "code_folding": [
     0
    ],
    "collapsed": true,
    "init_cell": true
   },
   "outputs": [],
   "source": [
    "def baumwelch(corpus, priors, states, symbols):\n",
    "    corpus = alpha(corpus, priors, states)\n",
    "    corpus = beta(corpus, priors, states)\n",
    "    corpus = xi(corpus, priors, states)\n",
    "    corpus = gamma(corpus, priors, states)\n",
    "    newinit = getnewinit(corpus, states)\n",
    "    newtran = getnewtran(corpus, states)\n",
    "    newemis = getnewemis(corpus, states, symbols)\n",
    "    return (newinit, newtran, newemis)"
   ]
  },
  {
   "cell_type": "code",
   "execution_count": 146,
   "metadata": {
    "ExecuteTime": {
     "end_time": "2017-10-24T19:20:52.490099Z",
     "start_time": "2017-10-24T19:20:52.362759Z"
    },
    "code_folding": [
     1
    ],
    "collapsed": true,
    "init_cell": true
   },
   "outputs": [],
   "source": [
    "import graphviz\n",
    "def pHMMviz(priors,states):\n",
    "    g = graphviz.Digraph('G', filename='HHM.gv',engine='dot')\n",
    "    g.attr(rankdir='LR', size='16,10')\n",
    "    init = priors[0]\n",
    "    tran = priors[1]\n",
    "    emis = priors[2]\n",
    "    numstates=int(max([i[1:] for i in states if 'M' in i]))+1\n",
    "    for key in init:\n",
    "        if init[key]>0.00:\n",
    "            g.edge('start',str(key),label=str(round(init[key],3)),labeldistance='1')\n",
    "    for row in tran.index:\n",
    "        for col in tran.columns:\n",
    "            if tran.loc[row,col]>0.0:\n",
    "                g.edge(str(row),str(col),label=str(round(tran.loc[row,col],3)))\n",
    "    for row in emis.index:\n",
    "        strsymbol=''\n",
    "        stremis=''\n",
    "        for col in emis.columns:\n",
    "            if emis.loc[row,col]>0.0:\n",
    "                if strsymbol!='':\n",
    "                    strsymbol+='|'\n",
    "                    stremis+='|'\n",
    "                strsymbol+=col\n",
    "                stremis+=str(round(emis.loc[row,col],3))\n",
    "        if str(row)=='end':\n",
    "            g.node(str(row))\n",
    "        elif row=='D0' or row=='I'+str(numstates-1) or row=='D'+str(numstates-1):\n",
    "            continue\n",
    "        elif 'D' in row:\n",
    "            g.node(str(row),shape='oval')\n",
    "        else:\n",
    "            g.node(str(row),shape='Mrecord',label='{'+str(row)+'|{'+strsymbol+'}|{'+stremis+'}}')\n",
    "    \n",
    "    #for cnum in range(0,numstates-1):\n",
    "    #    with g.subgraph(name='cluster'+str(cnum)) as c:\n",
    "    #        c.node('M'+str(cnum))\n",
    "    #        c.node('I'+str(cnum))\n",
    "    #        if cnum>0:\n",
    "    #            c.node('D'+str(cnum))\n",
    "    #\n",
    "    display(g)\n",
    "\n",
    "#pHMMviz(priors,states)"
   ]
  },
  {
   "cell_type": "code",
   "execution_count": 147,
   "metadata": {
    "ExecuteTime": {
     "end_time": "2017-10-24T19:20:52.515168Z",
     "start_time": "2017-10-24T19:20:52.492105Z"
    },
    "code_folding": [
     0
    ],
    "collapsed": true,
    "init_cell": true
   },
   "outputs": [],
   "source": [
    "def correctseq(oldseq,tblist):\n",
    "    newseq=[]\n",
    "    iterval=0\n",
    "    for tbval in tblist:\n",
    "        if tbval=='M0' or tbval=='M4':\n",
    "            continue\n",
    "        elif 'M' in tbval or 'I' in tbval:\n",
    "            newseq.append(oldseq[iterval])\n",
    "            iterval+=1\n",
    "        elif 'D' in tbval:\n",
    "            newseq.append('-')\n",
    "        else:\n",
    "            print('ERROR')\n",
    "    return newseq"
   ]
  },
  {
   "cell_type": "code",
   "execution_count": 334,
   "metadata": {
    "ExecuteTime": {
     "end_time": "2017-10-24T20:27:23.313836Z",
     "start_time": "2017-10-24T20:27:23.299800Z"
    },
    "code_folding": [
     0
    ]
   },
   "outputs": [],
   "source": [
    "def traceback(tbin):\n",
    "    curi=len(tbin.columns)-1\n",
    "    current='M'+str(max([i[1] for i in tb.index if 'M' in i]))\n",
    "    tblist=[]\n",
    "\n",
    "    while current!=0:\n",
    "        tblist.insert(0,current)\n",
    "        #display('i am '+current+' at time i = '+str(curi))\n",
    "        if current[0]!='D':\n",
    "            newi=curi-1\n",
    "        current=tbin.loc[current,curi]\n",
    "        #display('i found '+str(current)+' at time i = '+str(newi))\n",
    "        curi=newi\n",
    "    return tblist"
   ]
  },
  {
   "cell_type": "code",
   "execution_count": 407,
   "metadata": {
    "ExecuteTime": {
     "end_time": "2017-10-24T20:56:42.030369Z",
     "start_time": "2017-10-24T20:56:41.682403Z"
    },
    "code_folding": [
     2,
     7
    ],
    "collapsed": true
   },
   "outputs": [],
   "source": [
    "#given a dict[NUMBER]=NAME,\n",
    "#returns (NAME,NUMBER) for maximum\n",
    "def maxdict(dictin):\n",
    "    value=max(dictin.keys())\n",
    "    name=dictin[value]\n",
    "    return (name,value)\n",
    "\n",
    "def viterbi(seqin,priors,states,symbols,show=False):\n",
    "    init = priors[0]\n",
    "    tran = priors[1]\n",
    "    emis = priors[2]\n",
    "    numstates=int(max([i[1:] for i in states if 'M' in i]))+1\n",
    "    seq=list(seqin)\n",
    "    seq.insert(0,'start')\n",
    "    seq.append('end')\n",
    "    vit=pd.DataFrame(0.0,index=states,columns=range(0,len(seq)))\n",
    "    tb=pd.DataFrame(0.0,index=states,columns=range(0,len(seq)))\n",
    "    vit.loc['M0',0]=1.0\n",
    "    \n",
    "    #display(seq)\n",
    "    for i in range(0,len(seq)):\n",
    "        for k in range(0,numstates):\n",
    "            #M\n",
    "            if k>0 and i>0:\n",
    "                tbdict={}\n",
    "                eterm=emis.loc['M'+str(k),seq[i]]\n",
    "                mterm=vit.loc['M'+str(k-1),i-1]*tran.loc['M'+str(k-1),'M'+str(k)]\n",
    "                tbdict[mterm]='M'+str(k-1)\n",
    "                iterm=vit.loc['I'+str(k-1),i-1]*tran.loc['I'+str(k-1),'M'+str(k)]\n",
    "                tbdict[iterm]='I'+str(k-1)\n",
    "                dterm=vit.loc['D'+str(k-1),i-1]*tran.loc['D'+str(k-1),'M'+str(k)]\n",
    "                tbdict[dterm]='D'+str(k-1)\n",
    "                \n",
    "                maxtuple=maxdict(tbdict)\n",
    "                \n",
    "                #if k==4 and i==2:\n",
    "                #    display(tbdict)\n",
    "                \n",
    "                if maxtuple[1]>0.0:\n",
    "                    vit.loc['M'+str(k),i]=eterm*maxtuple[1]\n",
    "                    tb.loc['M'+str(k),i]=maxtuple[0]\n",
    "            #I\n",
    "            if i>0:\n",
    "                tbdict={}\n",
    "                eterm=emis.loc['I'+str(k),seq[i]]\n",
    "                mterm=vit.loc['M'+str(k),i-1]*tran.loc['M'+str(k),'I'+str(k)]\n",
    "                tbdict[mterm]='M'+str(k)\n",
    "                iterm=vit.loc['I'+str(k),i-1]*tran.loc['I'+str(k),'I'+str(k)]\n",
    "                tbdict[iterm]='I'+str(k)\n",
    "                dterm=vit.loc['D'+str(k),i-1]*tran.loc['D'+str(k),'I'+str(k)]\n",
    "                tbdict[dterm]='D'+str(k)\n",
    "                \n",
    "                maxtuple=maxdict(tbdict)\n",
    "                \n",
    "                if maxtuple[1]>0.0:\n",
    "                    vit.loc['I'+str(k),i]=eterm*maxtuple[1]\n",
    "                    tb.loc['I'+str(k),i]=maxtuple[0]\n",
    "            #D\n",
    "            if k>0:\n",
    "                tbdict={}\n",
    "                mterm=vit.loc['M'+str(k-1),i]*tran.loc['M'+str(k-1),'D'+str(k)]\n",
    "                tbdict[mterm]='M'+str(k-1)\n",
    "                iterm=vit.loc['I'+str(k-1),i]*tran.loc['I'+str(k-1),'D'+str(k)]\n",
    "                tbdict[iterm]='I'+str(k-1)\n",
    "                dterm=vit.loc['D'+str(k-1),i]*tran.loc['D'+str(k-1),'D'+str(k)]\n",
    "                tbdict[dterm]='D'+str(k-1)\n",
    "\n",
    "                #if k==3 and i==1:\n",
    "                #    display(tbdict)\n",
    "                \n",
    "                maxtuple=maxdict(tbdict)\n",
    "                if maxtuple[1]>0.0:\n",
    "                    vit.loc['D'+str(k),i]=maxtuple[1]\n",
    "                    tb.loc['D'+str(k),i]=maxtuple[0]\n",
    "\n",
    "                    \n",
    "    if show:\n",
    "        display(vit)\n",
    "        display(tb)\n",
    "    display(traceback(tb))\n",
    "    \n",
    "\n",
    "    "
   ]
  },
  {
   "cell_type": "code",
   "execution_count": null,
   "metadata": {
    "ExecuteTime": {
     "end_time": "2017-10-10T19:04:41.546464Z",
     "start_time": "2017-10-10T19:00:53.137Z"
    },
    "code_folding": [],
    "collapsed": true,
    "scrolled": true
   },
   "outputs": [],
   "source": [
    "states=['s','t']\n",
    "symbols=['A','B']\n",
    "init = {'s':0.85,'t':0.15}\n",
    "tran = pd.DataFrame({'s':{'s':0.3,'t':0.7},'t':{'s':0.1,'t':0.9}}).transpose()\n",
    "emis = pd.DataFrame({'s':{'A':0.4,'B':0.6},'t':{'A':0.5,'B':0.5}}).transpose()\n",
    "priors=(init,tran,emis)\n",
    "corpus={\n",
    "    ('A','B','B','A'):{'count':10},\n",
    "    ('B','A','B'):{'count':20},\n",
    "    }\n",
    "oldLL=-99999\n",
    "acc=0.0001\n",
    "for i in range(0,100):\n",
    "    priors=baumwelch(corpus,priors,states,symbols)\n",
    "    newLL=loglike(corpus,priors,states)\n",
    "    if abs(oldLL-newLL)<acc:\n",
    "        break\n",
    "    else:\n",
    "        oldLL=newLL\n",
    "for value in priors:\n",
    "    if type(value)==dict:\n",
    "        display(value)\n",
    "    elif type(value)==pd.core.frame.DataFrame:\n",
    "        display(round(value,3))"
   ]
  },
  {
   "cell_type": "code",
   "execution_count": 597,
   "metadata": {
    "ExecuteTime": {
     "end_time": "2017-10-17T16:41:34.708725Z",
     "start_time": "2017-10-17T16:41:34.466429Z"
    },
    "collapsed": true,
    "scrolled": true
   },
   "outputs": [],
   "source": [
    "states=['A','B']\n",
    "symbols=['a','b1','b2']\n",
    "init = {'A':0.8,'B':0.2}\n",
    "tran = pd.DataFrame({'A':{'A':0.8,'B':0.2},'B':{'A':0.2,'B':0.8}}).transpose()\n",
    "emis = pd.DataFrame({'A':{'a':0.8,'b1':0.1,'b2':0.1},'B':{'a':0.1,'b1':0.45,'b2':0.45}}).transpose()\n",
    "priors=(init,tran,emis)\n",
    "corpus=generatesequences(init,tran,emis,10)\n",
    "#corpus={\n",
    "#    ('a','a','a','b1','b2','b1','b1'):{'count':10},\n",
    "#    ('b2','b2','b2','b1','a','a','a','a'):{'count':20},\n",
    "#    }\n",
    "#prior=randomizepriors(priors)\n",
    "#\n",
    "#oldLL=-99999\n",
    "#acc=0.001\n",
    "#for i in range(0,10000):\n",
    "#    priors=baumwelch(corpus,priors,states,symbols)\n",
    "#    newLL=loglike(corpus,priors,states)\n",
    "#    #display(newLL)\n",
    "#    if abs(oldLL-newLL)<acc:\n",
    "#        display(str(i)+' iterations')\n",
    "#        break\n",
    "#    else:\n",
    "#        oldLL=newLL\n",
    "#for value in priors:\n",
    "#    if type(value)==dict:\n",
    "#        display(value)\n",
    "#    elif type(value)==pd.core.frame.DataFrame:\n",
    "#        display(round(value,3))"
   ]
  },
  {
   "cell_type": "code",
   "execution_count": 149,
   "metadata": {
    "ExecuteTime": {
     "end_time": "2017-10-24T19:20:52.737758Z",
     "start_time": "2017-10-24T19:20:52.547252Z"
    },
    "code_folding": [
     2,
     7
    ],
    "collapsed": true,
    "init_cell": true
   },
   "outputs": [],
   "source": [
    "#given a dict[NUMBER]=NAME,\n",
    "#returns (NAME,NUMBER) for maximum\n",
    "def maxdict(dictin):\n",
    "    value=max(dictin.keys())\n",
    "    name=dictin[value]\n",
    "    return (name,value)\n",
    "\n",
    "def seqalign(seqin,priors):\n",
    "    init = priors[0]\n",
    "    tran = priors[1]\n",
    "    emis = priors[2]\n",
    "    sequence=list(seqin)\n",
    "    sequence.insert(0,'start')\n",
    "    sequence.append('end')\n",
    "    numstates=int(max([i[1:] for i in list(init.keys()) if 'M' in i]))-1\n",
    "    seqlen=len(sequence)-1\n",
    "    seqrange=range(0,seqlen+1)\n",
    "    staterange=range(0,numstates+2)\n",
    "    statetypes=['M','D','I']\n",
    "    vit=pd.DataFrame(0,\n",
    "                index=pd.MultiIndex.from_product([staterange,statetypes]),\n",
    "                columns=seqrange)\n",
    "    tb=pd.DataFrame(0,\n",
    "                index=pd.MultiIndex.from_product([staterange,statetypes]),\n",
    "                columns=seqrange)\n",
    "    #initialize\n",
    "    vit.loc[(0,'M'),0]=1.0\n",
    "    for i in range(0,len(sequence)): #sequence #\n",
    "        for j in staterange: #state #\n",
    "            for statetype in statetypes: #type of state\n",
    "                curstatenum=statetype+str(j)\n",
    "                prev={}\n",
    "                #ignore M0 because we already initialized it\n",
    "                #ignore D0, DN, IN because they don't exist\n",
    "                if (statetype=='D' and j==0) or (statetype=='D' and j==numstates+1) or (statetype=='I' and j==numstates+1) or (statetype=='M' and j==0):\n",
    "                    continue\n",
    "                else: #state 0 is always M0\n",
    "                    if statetype=='M' and i>0 and j>0: #M0=1.0 when i=0, so skip j=0. Also M1 cannot be true @ i=0, so skip i=0\n",
    "                        for prevstatetype in statetypes:\n",
    "                            prevstatenum=prevstatetype+str(j-1)\n",
    "                            prev[vit.loc[(j-1,prevstatetype),i-1] * tran.loc[prevstatenum,curstatenum]]=prevstatenum\n",
    "                        maxed=maxdict(prev)\n",
    "                        if maxed[1]>0.0:\n",
    "                            vit.loc[(j,statetype),i]=maxed[1] * emis.loc[curstatenum,sequence[i]]\n",
    "                            tb.loc[(j,statetype),i]=maxed[0]\n",
    "                    elif statetype=='I' and i>0: #M0=1.0 when i=0, so skip i=0, but don't skip j=0 since I0 exists\n",
    "                        for prevstatetype in statetypes:\n",
    "                            prevstatenum=prevstatetype+str(j)\n",
    "                            prev[vit.loc[(j,prevstatetype),i-1] * tran.loc[prevstatenum,curstatenum]]=prevstatenum\n",
    "                        maxed=maxdict(prev)\n",
    "                        if maxed[1]>0.0:\n",
    "                            vit.loc[(j,statetype),i]=maxed[1] * emis.loc[curstatenum,sequence[i]]\n",
    "                            tb.loc[(j,statetype),i]=maxed[0]\n",
    "                    elif statetype=='D' and j>0: #no D0, but M0->D1 still keeps i at 0, so don't skip i=0\n",
    "                        for prevstatetype in statetypes:\n",
    "                            prevstatenum=prevstatetype+str(j-1)\n",
    "                            prev[vit.loc[(j-1,prevstatetype),i] * tran.loc[prevstatenum,curstatenum]]=prevstatenum\n",
    "                        maxed=maxdict(prev)\n",
    "                        if maxed[1]>0.0:\n",
    "                            vit.loc[(j,statetype),i]=maxed[1]\n",
    "                            tb.loc[(j,statetype),i]=maxed[0]\n",
    "    display(vit)\n",
    "    display(tb)\n",
    "    return traceback(tb)"
   ]
  },
  {
   "cell_type": "code",
   "execution_count": 150,
   "metadata": {
    "ExecuteTime": {
     "end_time": "2017-10-24T19:20:53.091698Z",
     "start_time": "2017-10-24T19:20:52.739762Z"
    },
    "code_folding": [
     0
    ],
    "collapsed": true,
    "init_cell": true
   },
   "outputs": [],
   "source": [
    "def initializephmm(numstates,symbols):\n",
    "    states=[]\n",
    "    numsymbols=len(symbols)\n",
    "    symbols.append('start')\n",
    "    symbols.append('end')\n",
    "    \n",
    "    #states\n",
    "    for i in range(0,numstates+2):\n",
    "        states.append('M'+str(i))\n",
    "        states.append('D'+str(i))\n",
    "        states.append('I'+str(i))\n",
    "    \n",
    "    #init\n",
    "    init={}\n",
    "    for state in states:\n",
    "        init[state]=0.0\n",
    "    init['M0']=1.0\n",
    "    \n",
    "    #tran\n",
    "    exclude=['D0','I'+str(numstates+1),'D'+str(numstates+1)]\n",
    "    tran={}\n",
    "    for state1 in states:\n",
    "        i=state1[1:]\n",
    "        tran[state1]={}\n",
    "        for state2 in states:\n",
    "            j=state2[1:]\n",
    "            if state1 in exclude or state2 in exclude:\n",
    "                tran[state1][state2]=0.0\n",
    "            elif int(i)==int(j)-1 and 'M' in state2:\n",
    "                if int(i)==numstates:\n",
    "                    tran[state1][state2]=0.9\n",
    "                else:\n",
    "                    tran[state1][state2]=0.8\n",
    "            elif int(i)==int(j) and 'I' in state2:\n",
    "                tran[state1][state2]=0.1\n",
    "            elif int(i)==int(j)-1 and 'D' in state2:\n",
    "                tran[state1][state2]=0.1\n",
    "            else:\n",
    "                tran[state1][state2]=0.0\n",
    "    tran=pd.DataFrame(tran).transpose()\n",
    "    \n",
    "    #emis\n",
    "    emis={}\n",
    "    for state in states:\n",
    "        emis[state]={}\n",
    "        for symbol in symbols:\n",
    "            if state=='M0':\n",
    "                if symbol=='start':\n",
    "                    emis[state][symbol]=1.0\n",
    "                else:\n",
    "                    emis[state][symbol]=0.0\n",
    "            elif state=='M'+str(numstates+1):\n",
    "                if symbol=='end':\n",
    "                    emis[state][symbol]=1.0\n",
    "                else:\n",
    "                    emis[state][symbol]=0.0\n",
    "            elif state in exclude or 'D' in state:\n",
    "                emis[state][symbol]=0.0\n",
    "            elif symbol!='start' and symbol!='end':\n",
    "                emis[state][symbol]=(random.random()-0.5)/2+0.5\n",
    "            else:\n",
    "                emis[state][symbol]=0.0\n",
    "    emis=pd.DataFrame(emis).transpose()\n",
    "    for row in states:\n",
    "        total=sum(emis.loc[row,:])\n",
    "        if total>0:\n",
    "            emis.loc[row,:]/=total\n",
    "    \n",
    "    \n",
    "    priors=(init,tran,emis)\n",
    "    \n",
    "    return(priors, states)"
   ]
  },
  {
   "cell_type": "code",
   "execution_count": 151,
   "metadata": {
    "ExecuteTime": {
     "end_time": "2017-10-24T19:20:53.125788Z",
     "start_time": "2017-10-24T19:20:53.094705Z"
    },
    "code_folding": [
     0
    ],
    "collapsed": true,
    "init_cell": true
   },
   "outputs": [],
   "source": [
    "def ploglike(corpus,priors,states,symbols):\n",
    "    LL=0\n",
    "    palpha(corpus,priors,states,symbols)\n",
    "    for seq in corpus:\n",
    "        LL+=corpus[seq]['count']*np.log(corpus[seq]['prob'])\n",
    "    return LL\n",
    "#ploglike(corpus,priors,states,symbols)"
   ]
  },
  {
   "cell_type": "code",
   "execution_count": 152,
   "metadata": {
    "ExecuteTime": {
     "end_time": "2017-10-24T19:20:53.168903Z",
     "start_time": "2017-10-24T19:20:53.127794Z"
    },
    "code_folding": [
     0
    ],
    "collapsed": true,
    "init_cell": true
   },
   "outputs": [],
   "source": [
    "def pbaumwelch(corpus,priors,states,symbols):\n",
    "    for i in range(0,20):\n",
    "        palpha(corpus,priors,states,symbols)\n",
    "        pbeta(corpus,priors,states,symbols)\n",
    "        newemis=pnewemis(corpus,priors,states,symbols)\n",
    "        newtran=pnewtran(corpus,priors,states,symbols)\n",
    "        priors=(priors[0],newtran,newemis)\n",
    "        display(ploglike(corpus,priors,states,symbols))\n",
    "    pHMMviz(priors,states)\n",
    "    for seq in corpus:\n",
    "        display(seq)\n",
    "        display(correctseq(seq,seqalign(seq,priors)))\n",
    "    return priors\n",
    "#priors=pbaumwelch(corpus,priors,states,symbols)"
   ]
  },
  {
   "cell_type": "code",
   "execution_count": 153,
   "metadata": {
    "ExecuteTime": {
     "end_time": "2017-10-24T19:20:53.437618Z",
     "start_time": "2017-10-24T19:20:53.174920Z"
    },
    "code_folding": [
     0
    ],
    "collapsed": true,
    "init_cell": true
   },
   "outputs": [],
   "source": [
    "def palpha(corpus,priors,states,symbols):\n",
    "    init = priors[0]\n",
    "    tran = priors[1]\n",
    "    emis = priors[2]\n",
    "    numstates=int(max([i[1:] for i in states if 'M' in i]))+1\n",
    "    for curseq in corpus:\n",
    "        seq=list(curseq)\n",
    "        seq.insert(0,'start')\n",
    "        seq.append('end')\n",
    "        alpha=pd.DataFrame(0.0,index=states,columns=range(0,len(seq)))\n",
    "        alpha.loc['M0',0]=1.0\n",
    "        for i in range(0,len(seq)):\n",
    "            for k in range(0,numstates):\n",
    "                #M\n",
    "                if k>0 and i>0:\n",
    "                    eterm=emis.loc['M'+str(k),seq[i]]\n",
    "                    mterm=alpha.loc['M'+str(k-1),i-1]*tran.loc['M'+str(k-1),'M'+str(k)]\n",
    "                    iterm=alpha.loc['I'+str(k-1),i-1]*tran.loc['I'+str(k-1),'M'+str(k)]\n",
    "                    dterm=alpha.loc['D'+str(k-1),i-1]*tran.loc['D'+str(k-1),'M'+str(k)]\n",
    "                    alpha.loc['M'+str(k),i]=eterm*(mterm+iterm+dterm)\n",
    "                #I\n",
    "                if i>0:\n",
    "                    eterm=emis.loc['I'+str(k),seq[i]]\n",
    "                    mterm=alpha.loc['M'+str(k),i-1]*tran.loc['M'+str(k),'I'+str(k)]\n",
    "                    iterm=alpha.loc['I'+str(k),i-1]*tran.loc['I'+str(k),'I'+str(k)]\n",
    "                    dterm=alpha.loc['D'+str(k),i-1]*tran.loc['D'+str(k),'I'+str(k)]\n",
    "                    alpha.loc['I'+str(k),i]=eterm*(mterm+iterm+dterm)\n",
    "                #D\n",
    "                if k>0:\n",
    "                    mterm=alpha.loc['M'+str(k-1),i]*tran.loc['M'+str(k-1),'D'+str(k)]\n",
    "                    iterm=alpha.loc['I'+str(k-1),i]*tran.loc['I'+str(k-1),'D'+str(k)]\n",
    "                    dterm=alpha.loc['D'+str(k-1),i]*tran.loc['D'+str(k-1),'D'+str(k)]\n",
    "                    alpha.loc['D'+str(k),i]=(mterm+iterm+dterm)\n",
    "\n",
    "        corpus[curseq]['alpha']=alpha\n",
    "        corpus[curseq]['prob']=alpha.loc['M'+str(numstates-1),len(seq)-1]\n",
    "        #display(alpha)\n",
    "        \n",
    "#palpha(corpus,priors,states,symbols)\n",
    "#for seq in corpus:\n",
    "#    display(corpus[seq]['alpha'])"
   ]
  },
  {
   "cell_type": "code",
   "execution_count": 154,
   "metadata": {
    "ExecuteTime": {
     "end_time": "2017-10-24T19:20:53.557939Z",
     "start_time": "2017-10-24T19:20:53.439624Z"
    },
    "code_folding": [
     0
    ],
    "collapsed": true,
    "init_cell": true
   },
   "outputs": [],
   "source": [
    "def pbeta(corpus,priors,states,symbols):\n",
    "    init = priors[0]\n",
    "    tran = priors[1]\n",
    "    emis = priors[2]\n",
    "    numstates=int(max([i[1:] for i in states if 'M' in i]))+1\n",
    "    for curseq in corpus:\n",
    "        seq=list(curseq)\n",
    "        seq.insert(0,'start')\n",
    "        seq.append('end')\n",
    "        beta=pd.DataFrame(0.0,index=states,columns=range(0,len(seq)))\n",
    "        beta.loc['M'+str(numstates-1),len(seq)-1]=1.0\n",
    "        for i in range(len(seq)-1,-1,-1):\n",
    "            for k in range(numstates-1,-1,-1):\n",
    "                for state in ['M','D','I']:\n",
    "                    #from M @ k+1\n",
    "                    if k<numstates-1 and i<len(seq)-1:\n",
    "                        bterm=beta.loc['M'+str(k+1),i+1]\n",
    "                        tterm=tran.loc[state+str(k),'M'+str(k+1)]\n",
    "                        eterm=emis.loc['M'+str(k+1),seq[i+1]]\n",
    "                        beta.loc[state+str(k),i]+=(bterm*tterm*eterm)\n",
    "                    #from I @ k\n",
    "                    if i<len(seq)-1:\n",
    "                        bterm=beta.loc['I'+str(k),i+1]\n",
    "                        tterm=tran.loc[state+str(k),'I'+str(k)]\n",
    "                        eterm=emis.loc['I'+str(k),seq[i+1]]\n",
    "                        beta.loc[state+str(k),i]+=(bterm*tterm*eterm)\n",
    "                    #from D @ k+1\n",
    "                    if k<numstates-1:\n",
    "                        bterm=beta.loc['D'+str(k+1),i]\n",
    "                        tterm=tran.loc[state+str(k),'D'+str(k+1)]\n",
    "                        eterm=emis.loc['D'+str(k+1),seq[i]]\n",
    "                        beta.loc[state+str(k),i]+=(bterm*tterm*eterm)\n",
    "        corpus[curseq]['beta']=beta\n",
    "        #display(beta)    \n",
    "                \n",
    "#pbeta(corpus,priors,states,symbols)\n",
    "#for seq in corpus:\n",
    "#    display(corpus[seq]['beta'])"
   ]
  },
  {
   "cell_type": "code",
   "execution_count": 268,
   "metadata": {
    "ExecuteTime": {
     "end_time": "2017-10-24T20:00:41.584142Z",
     "start_time": "2017-10-24T20:00:41.538018Z"
    },
    "code_folding": [
     0
    ],
    "collapsed": true,
    "init_cell": true
   },
   "outputs": [],
   "source": [
    "def pnewemis(corpus,priors,states,symbols):\n",
    "    init = priors[0]\n",
    "    tran = priors[1]\n",
    "    emis = priors[2]\n",
    "    pseudocount=1.0\n",
    "    numstates=int(max([i[1:] for i in states if 'M' in i]))+1\n",
    "    newemis=pd.DataFrame(0.0,index=states,columns=symbols)\n",
    "    #pseudocounts\n",
    "    for state in states:\n",
    "        for symbol in symbols:\n",
    "            if (symbol!='start') and (symbol!='end') and (state!='M0') and (state!='D0') and (str(numstates-1) not in state) and ('D' not in state):\n",
    "                newemis.loc[state,symbol]=pseudocount\n",
    "    #populate\n",
    "    for curseq in corpus:\n",
    "        seq=list(curseq)\n",
    "        seq.insert(0,'start')\n",
    "        seq.append('end')\n",
    "        tempdf=corpus[curseq]['alpha']*corpus[curseq]['beta']\n",
    "        for i in range(0,len(seq)):\n",
    "            cursymbol=seq[i]\n",
    "            for state in states:\n",
    "                if 'I' in state or 'M' in state:\n",
    "                    newemis.loc[state,cursymbol]+=tempdf.loc[state,i]/corpus[curseq]['prob']*corpus[curseq]['count']\n",
    "    #display(newemis)\n",
    "    return normbyrow(newemis)\n",
    "\n",
    "#pnewemis(corpus,priors,states,symbols)"
   ]
  },
  {
   "cell_type": "code",
   "execution_count": 326,
   "metadata": {
    "ExecuteTime": {
     "end_time": "2017-10-24T20:26:38.993173Z",
     "start_time": "2017-10-24T20:26:38.712741Z"
    },
    "code_folding": [],
    "init_cell": true,
    "scrolled": false
   },
   "outputs": [],
   "source": [
    "def pnewtran(corpus,priors,states,symbols):\n",
    "    init = priors[0]\n",
    "    tran = priors[1]\n",
    "    emis = priors[2]\n",
    "    numstates=int(max([i[1:] for i in states if 'M' in i]))+1\n",
    "    newtran=pd.DataFrame(0.0,index=states,columns=states)\n",
    "    pseudocount=1.0\n",
    "    #pseudocount\n",
    "    for k in range(0,numstates-1):\n",
    "        if k==0:\n",
    "            newtran.loc['M'+str(k),'M'+str(k+1)]=1.0\n",
    "            newtran.loc['M'+str(k),'I'+str(k)]=1.0\n",
    "            newtran.loc['M'+str(k),'D'+str(k+1)]=1.0\n",
    "            newtran.loc['I'+str(k),'M'+str(k+1)]=1.0\n",
    "            newtran.loc['I'+str(k),'I'+str(k)]=1.0\n",
    "            newtran.loc['I'+str(k),'D'+str(k+1)]=1.0\n",
    "        elif k==numstates-2:\n",
    "            for state in ['M','I','D']:\n",
    "                newtran.loc[state+str(k),'M'+str(k+1)]=1.0\n",
    "                newtran.loc[state+str(k),'I'+str(k)]=1.0\n",
    "        else:\n",
    "            for state in ['M','I','D']:\n",
    "                newtran.loc[state+str(k),'M'+str(k+1)]=1.0\n",
    "                newtran.loc[state+str(k),'I'+str(k)]=1.0\n",
    "                newtran.loc[state+str(k),'D'+str(k+1)]=1.0\n",
    "    #newtran.loc['I'+str(numstates-2),'I'+str(numstates-2)]=1.0     \n",
    "            \n",
    "    #display(newtran)\n",
    "    \n",
    "    for curseq in corpus:\n",
    "        seq=list(curseq)\n",
    "        seq.insert(0,'start')\n",
    "        seq.append('end')\n",
    "        for k in range(0,numstates):\n",
    "            for state in ['M','I','D']:\n",
    "                for i in range(0,len(seq)):\n",
    "                    #to M @ k+1\n",
    "                    if i<len(seq)-1 and k<numstates-1:\n",
    "                        aterm=corpus[curseq]['alpha'].loc[state+str(k),i]\n",
    "                        tterm=tran.loc[state+str(k),'M'+str(k+1)]\n",
    "                        eterm=emis.loc['M'+str(k+1),seq[i+1]]\n",
    "                        bterm=corpus[curseq]['beta'].loc['M'+str(k+1),i+1]\n",
    "                        newtran.loc[state+str(k),'M'+str(k+1)]+=(aterm*bterm*eterm*tterm)/corpus[curseq]['prob']*corpus[curseq]['count']\n",
    "\n",
    "                    #to I @ k\n",
    "                    if i<len(seq)-1:\n",
    "                        aterm=corpus[curseq]['alpha'].loc[state+str(k),i]\n",
    "                        tterm=tran.loc[state+str(k),'I'+str(k)]\n",
    "                        eterm=emis.loc['I'+str(k),seq[i+1]]\n",
    "                        bterm=corpus[curseq]['beta'].loc['I'+str(k),i+1]\n",
    "                        newtran.loc[state+str(k),'I'+str(k)]+=(aterm*bterm*eterm*tterm)/corpus[curseq]['prob']*corpus[curseq]['count']\n",
    "\n",
    "                    #to D @ k+1\n",
    "                    if k<numstates-1:\n",
    "                        aterm=corpus[curseq]['alpha'].loc[state+str(k),i]\n",
    "                        tterm=tran.loc[state+str(k),'D'+str(k+1)]\n",
    "                        bterm=corpus[curseq]['beta'].loc['D'+str(k+1),i]\n",
    "                        newtran.loc[state+str(k),'D'+str(k+1)]+=(aterm*bterm*eterm*tterm)/corpus[curseq]['prob']*corpus[curseq]['count']\n",
    "                    \n",
    "    #display(normbyrow(newtran))\n",
    "    return normbyrow(newtran)\n",
    "    \n",
    "#palpha(corpus,priors,states,symbols)\n",
    "#pbeta(corpus,priors,states,symbols)\n",
    "#newtran(corpus,priors,states,symbols)"
   ]
  },
  {
   "cell_type": "code",
   "execution_count": 157,
   "metadata": {
    "ExecuteTime": {
     "end_time": "2017-10-24T19:20:53.854729Z",
     "start_time": "2017-10-24T19:20:53.799586Z"
    },
    "code_folding": [
     0
    ],
    "collapsed": true,
    "init_cell": true
   },
   "outputs": [],
   "source": [
    "def normbyrow(dfin):\n",
    "    for row in dfin.index:\n",
    "        tot=sum(dfin.loc[row,:])\n",
    "        if tot>0:\n",
    "            dfin.loc[row,:]/=tot\n",
    "    return dfin"
   ]
  },
  {
   "cell_type": "code",
   "execution_count": 158,
   "metadata": {
    "ExecuteTime": {
     "end_time": "2017-10-24T19:20:53.879797Z",
     "start_time": "2017-10-24T19:20:53.857736Z"
    },
    "collapsed": true,
    "init_cell": true
   },
   "outputs": [],
   "source": [
    "def getsymbols(corpus):\n",
    "    retset=[]\n",
    "    for seq in corpus:\n",
    "        for symbol in seq:\n",
    "            if symbol not in retset:\n",
    "                retset.append(symbol)\n",
    "    return retset"
   ]
  },
  {
   "cell_type": "code",
   "execution_count": 420,
   "metadata": {
    "ExecuteTime": {
     "end_time": "2017-10-24T21:14:54.766456Z",
     "start_time": "2017-10-24T21:14:54.685244Z"
    }
   },
   "outputs": [
    {
     "data": {
      "image/svg+xml": [
       "<?xml version=\"1.0\" encoding=\"UTF-8\" standalone=\"no\"?>\r\n",
       "<!DOCTYPE svg PUBLIC \"-//W3C//DTD SVG 1.1//EN\"\r\n",
       " \"http://www.w3.org/Graphics/SVG/1.1/DTD/svg11.dtd\">\r\n",
       "<!-- Generated by graphviz version 2.38.0 (20140413.2041)\r\n",
       " -->\r\n",
       "<!-- Title: G Pages: 1 -->\r\n",
       "<svg width=\"1152pt\" height=\"227pt\"\r\n",
       " viewBox=\"0.00 0.00 1152.00 226.67\" xmlns=\"http://www.w3.org/2000/svg\" xmlns:xlink=\"http://www.w3.org/1999/xlink\">\r\n",
       "<g id=\"graph0\" class=\"graph\" transform=\"scale(0.779432 0.779432) rotate(0) translate(4 286.808)\">\r\n",
       "<title>G</title>\r\n",
       "<polygon fill=\"white\" stroke=\"none\" points=\"-4,4 -4,-286.808 1474,-286.808 1474,4 -4,4\"/>\r\n",
       "<!-- start -->\r\n",
       "<g id=\"node1\" class=\"node\"><title>start</title>\r\n",
       "<ellipse fill=\"none\" stroke=\"black\" cx=\"27\" cy=\"-149.808\" rx=\"27\" ry=\"18\"/>\r\n",
       "<text text-anchor=\"middle\" x=\"27\" y=\"-146.108\" font-family=\"Times New Roman,serif\" font-size=\"14.00\">start</text>\r\n",
       "</g>\r\n",
       "<!-- M0 -->\r\n",
       "<g id=\"node2\" class=\"node\"><title>M0</title>\r\n",
       "<path fill=\"none\" stroke=\"black\" d=\"M120,-131.808C120,-131.808 206,-131.808 206,-131.808 212,-131.808 218,-137.808 218,-143.808 218,-143.808 218,-155.808 218,-155.808 218,-161.808 212,-167.808 206,-167.808 206,-167.808 120,-167.808 120,-167.808 114,-167.808 108,-161.808 108,-155.808 108,-155.808 108,-143.808 108,-143.808 108,-137.808 114,-131.808 120,-131.808\"/>\r\n",
       "<text text-anchor=\"middle\" x=\"125.5\" y=\"-146.108\" font-family=\"Times New Roman,serif\" font-size=\"14.00\">M0</text>\r\n",
       "<polyline fill=\"none\" stroke=\"black\" points=\"143,-131.808 143,-167.808 \"/>\r\n",
       "<text text-anchor=\"middle\" x=\"163.5\" y=\"-146.108\" font-family=\"Times New Roman,serif\" font-size=\"14.00\">start</text>\r\n",
       "<polyline fill=\"none\" stroke=\"black\" points=\"184,-131.808 184,-167.808 \"/>\r\n",
       "<text text-anchor=\"middle\" x=\"201\" y=\"-146.108\" font-family=\"Times New Roman,serif\" font-size=\"14.00\">1.0</text>\r\n",
       "</g>\r\n",
       "<!-- start&#45;&gt;M0 -->\r\n",
       "<g id=\"edge1\" class=\"edge\"><title>start&#45;&gt;M0</title>\r\n",
       "<path fill=\"none\" stroke=\"black\" d=\"M54.1547,-149.808C66.7129,-149.808 82.3672,-149.808 97.8209,-149.808\"/>\r\n",
       "<polygon fill=\"black\" stroke=\"black\" points=\"97.9128,-153.308 107.913,-149.808 97.9127,-146.308 97.9128,-153.308\"/>\r\n",
       "<text text-anchor=\"middle\" x=\"81\" y=\"-153.608\" font-family=\"Times New Roman,serif\" font-size=\"14.00\">1.0</text>\r\n",
       "</g>\r\n",
       "<!-- D1 -->\r\n",
       "<g id=\"node3\" class=\"node\"><title>D1</title>\r\n",
       "<ellipse fill=\"none\" stroke=\"black\" cx=\"478\" cy=\"-89.8082\" rx=\"27\" ry=\"18\"/>\r\n",
       "<text text-anchor=\"middle\" x=\"478\" y=\"-86.1082\" font-family=\"Times New Roman,serif\" font-size=\"14.00\">D1</text>\r\n",
       "</g>\r\n",
       "<!-- M0&#45;&gt;D1 -->\r\n",
       "<g id=\"edge21\" class=\"edge\"><title>M0&#45;&gt;D1</title>\r\n",
       "<path fill=\"none\" stroke=\"black\" d=\"M188.675,-131.67C209.646,-117.442 241.174,-98.7593 272,-90.8082 329.858,-75.8844 399.995,-80.1047 441.422,-84.7779\"/>\r\n",
       "<polygon fill=\"black\" stroke=\"black\" points=\"441.215,-88.2781 451.561,-85.9963 442.05,-81.3281 441.215,-88.2781\"/>\r\n",
       "<text text-anchor=\"middle\" x=\"321.5\" y=\"-94.6082\" font-family=\"Times New Roman,serif\" font-size=\"14.00\">0.1</text>\r\n",
       "</g>\r\n",
       "<!-- I0 -->\r\n",
       "<g id=\"node12\" class=\"node\"><title>I0</title>\r\n",
       "<path fill=\"none\" stroke=\"black\" d=\"M284,-115.308C284,-115.308 359,-115.308 359,-115.308 365,-115.308 371,-121.308 371,-127.308 371,-127.308 371,-172.308 371,-172.308 371,-178.308 365,-184.308 359,-184.308 359,-184.308 284,-184.308 284,-184.308 278,-184.308 272,-178.308 272,-172.308 272,-172.308 272,-127.308 272,-127.308 272,-121.308 278,-115.308 284,-115.308\"/>\r\n",
       "<text text-anchor=\"middle\" x=\"286\" y=\"-146.108\" font-family=\"Times New Roman,serif\" font-size=\"14.00\">I0</text>\r\n",
       "<polyline fill=\"none\" stroke=\"black\" points=\"300,-115.308 300,-184.308 \"/>\r\n",
       "<text text-anchor=\"middle\" x=\"312\" y=\"-169.108\" font-family=\"Times New Roman,serif\" font-size=\"14.00\">a</text>\r\n",
       "<polyline fill=\"none\" stroke=\"black\" points=\"300,-161.308 324,-161.308 \"/>\r\n",
       "<text text-anchor=\"middle\" x=\"312\" y=\"-146.108\" font-family=\"Times New Roman,serif\" font-size=\"14.00\">b</text>\r\n",
       "<polyline fill=\"none\" stroke=\"black\" points=\"300,-138.308 324,-138.308 \"/>\r\n",
       "<text text-anchor=\"middle\" x=\"312\" y=\"-123.108\" font-family=\"Times New Roman,serif\" font-size=\"14.00\">c</text>\r\n",
       "<polyline fill=\"none\" stroke=\"black\" points=\"324,-115.308 324,-184.308 \"/>\r\n",
       "<text text-anchor=\"middle\" x=\"347.5\" y=\"-169.108\" font-family=\"Times New Roman,serif\" font-size=\"14.00\">0.285</text>\r\n",
       "<polyline fill=\"none\" stroke=\"black\" points=\"324,-161.308 371,-161.308 \"/>\r\n",
       "<text text-anchor=\"middle\" x=\"347.5\" y=\"-146.108\" font-family=\"Times New Roman,serif\" font-size=\"14.00\">0.272</text>\r\n",
       "<polyline fill=\"none\" stroke=\"black\" points=\"324,-138.308 371,-138.308 \"/>\r\n",
       "<text text-anchor=\"middle\" x=\"347.5\" y=\"-123.108\" font-family=\"Times New Roman,serif\" font-size=\"14.00\">0.443</text>\r\n",
       "</g>\r\n",
       "<!-- M0&#45;&gt;I0 -->\r\n",
       "<g id=\"edge22\" class=\"edge\"><title>M0&#45;&gt;I0</title>\r\n",
       "<path fill=\"none\" stroke=\"black\" d=\"M218.297,-149.808C232.292,-149.808 247.418,-149.808 261.633,-149.808\"/>\r\n",
       "<polygon fill=\"black\" stroke=\"black\" points=\"261.794,-153.308 271.794,-149.808 261.794,-146.308 261.794,-153.308\"/>\r\n",
       "<text text-anchor=\"middle\" x=\"245\" y=\"-153.608\" font-family=\"Times New Roman,serif\" font-size=\"14.00\">0.1</text>\r\n",
       "</g>\r\n",
       "<!-- M1 -->\r\n",
       "<g id=\"node13\" class=\"node\"><title>M1</title>\r\n",
       "<path fill=\"none\" stroke=\"black\" d=\"M437,-210.308C437,-210.308 519,-210.308 519,-210.308 525,-210.308 531,-216.308 531,-222.308 531,-222.308 531,-267.308 531,-267.308 531,-273.308 525,-279.308 519,-279.308 519,-279.308 437,-279.308 437,-279.308 431,-279.308 425,-273.308 425,-267.308 425,-267.308 425,-222.308 425,-222.308 425,-216.308 431,-210.308 437,-210.308\"/>\r\n",
       "<text text-anchor=\"middle\" x=\"442.5\" y=\"-241.108\" font-family=\"Times New Roman,serif\" font-size=\"14.00\">M1</text>\r\n",
       "<polyline fill=\"none\" stroke=\"black\" points=\"460,-210.308 460,-279.308 \"/>\r\n",
       "<text text-anchor=\"middle\" x=\"472\" y=\"-264.108\" font-family=\"Times New Roman,serif\" font-size=\"14.00\">a</text>\r\n",
       "<polyline fill=\"none\" stroke=\"black\" points=\"460,-256.308 484,-256.308 \"/>\r\n",
       "<text text-anchor=\"middle\" x=\"472\" y=\"-241.108\" font-family=\"Times New Roman,serif\" font-size=\"14.00\">b</text>\r\n",
       "<polyline fill=\"none\" stroke=\"black\" points=\"460,-233.308 484,-233.308 \"/>\r\n",
       "<text text-anchor=\"middle\" x=\"472\" y=\"-218.108\" font-family=\"Times New Roman,serif\" font-size=\"14.00\">c</text>\r\n",
       "<polyline fill=\"none\" stroke=\"black\" points=\"484,-210.308 484,-279.308 \"/>\r\n",
       "<text text-anchor=\"middle\" x=\"507.5\" y=\"-264.108\" font-family=\"Times New Roman,serif\" font-size=\"14.00\">0.489</text>\r\n",
       "<polyline fill=\"none\" stroke=\"black\" points=\"484,-256.308 531,-256.308 \"/>\r\n",
       "<text text-anchor=\"middle\" x=\"507.5\" y=\"-241.108\" font-family=\"Times New Roman,serif\" font-size=\"14.00\">0.238</text>\r\n",
       "<polyline fill=\"none\" stroke=\"black\" points=\"484,-233.308 531,-233.308 \"/>\r\n",
       "<text text-anchor=\"middle\" x=\"507.5\" y=\"-218.108\" font-family=\"Times New Roman,serif\" font-size=\"14.00\">0.273</text>\r\n",
       "</g>\r\n",
       "<!-- M0&#45;&gt;M1 -->\r\n",
       "<g id=\"edge23\" class=\"edge\"><title>M0&#45;&gt;M1</title>\r\n",
       "<path fill=\"none\" stroke=\"black\" d=\"M182.834,-168.106C203.049,-186.49 237.002,-213.895 272,-226.808 317.829,-243.718 373.18,-247.699 414.81,-247.739\"/>\r\n",
       "<polygon fill=\"black\" stroke=\"black\" points=\"414.838,-251.239 424.815,-247.673 414.792,-244.239 414.838,-251.239\"/>\r\n",
       "<text text-anchor=\"middle\" x=\"321.5\" y=\"-249.608\" font-family=\"Times New Roman,serif\" font-size=\"14.00\">0.8</text>\r\n",
       "</g>\r\n",
       "<!-- D2 -->\r\n",
       "<g id=\"node4\" class=\"node\"><title>D2</title>\r\n",
       "<ellipse fill=\"none\" stroke=\"black\" cx=\"791\" cy=\"-219.808\" rx=\"27\" ry=\"18\"/>\r\n",
       "<text text-anchor=\"middle\" x=\"791\" y=\"-216.108\" font-family=\"Times New Roman,serif\" font-size=\"14.00\">D2</text>\r\n",
       "</g>\r\n",
       "<!-- D1&#45;&gt;D2 -->\r\n",
       "<g id=\"edge2\" class=\"edge\"><title>D1&#45;&gt;D2</title>\r\n",
       "<path fill=\"none\" stroke=\"black\" d=\"M487.215,-106.892C498.204,-127.749 519.747,-162.388 549,-179.808 566.353,-190.142 691.308,-207.243 754.132,-215.32\"/>\r\n",
       "<polygon fill=\"black\" stroke=\"black\" points=\"754.016,-218.833 764.379,-216.628 754.902,-211.89 754.016,-218.833\"/>\r\n",
       "<text text-anchor=\"middle\" x=\"634.5\" y=\"-208.608\" font-family=\"Times New Roman,serif\" font-size=\"14.00\">0.1</text>\r\n",
       "</g>\r\n",
       "<!-- I1 -->\r\n",
       "<g id=\"node5\" class=\"node\"><title>I1</title>\r\n",
       "<path fill=\"none\" stroke=\"black\" d=\"M597,-55.3082C597,-55.3082 672,-55.3082 672,-55.3082 678,-55.3082 684,-61.3082 684,-67.3082 684,-67.3082 684,-112.308 684,-112.308 684,-118.308 678,-124.308 672,-124.308 672,-124.308 597,-124.308 597,-124.308 591,-124.308 585,-118.308 585,-112.308 585,-112.308 585,-67.3082 585,-67.3082 585,-61.3082 591,-55.3082 597,-55.3082\"/>\r\n",
       "<text text-anchor=\"middle\" x=\"599\" y=\"-86.1082\" font-family=\"Times New Roman,serif\" font-size=\"14.00\">I1</text>\r\n",
       "<polyline fill=\"none\" stroke=\"black\" points=\"613,-55.3082 613,-124.308 \"/>\r\n",
       "<text text-anchor=\"middle\" x=\"625\" y=\"-109.108\" font-family=\"Times New Roman,serif\" font-size=\"14.00\">a</text>\r\n",
       "<polyline fill=\"none\" stroke=\"black\" points=\"613,-101.308 637,-101.308 \"/>\r\n",
       "<text text-anchor=\"middle\" x=\"625\" y=\"-86.1082\" font-family=\"Times New Roman,serif\" font-size=\"14.00\">b</text>\r\n",
       "<polyline fill=\"none\" stroke=\"black\" points=\"613,-78.3082 637,-78.3082 \"/>\r\n",
       "<text text-anchor=\"middle\" x=\"625\" y=\"-63.1082\" font-family=\"Times New Roman,serif\" font-size=\"14.00\">c</text>\r\n",
       "<polyline fill=\"none\" stroke=\"black\" points=\"637,-55.3082 637,-124.308 \"/>\r\n",
       "<text text-anchor=\"middle\" x=\"660.5\" y=\"-109.108\" font-family=\"Times New Roman,serif\" font-size=\"14.00\">0.292</text>\r\n",
       "<polyline fill=\"none\" stroke=\"black\" points=\"637,-101.308 684,-101.308 \"/>\r\n",
       "<text text-anchor=\"middle\" x=\"660.5\" y=\"-86.1082\" font-family=\"Times New Roman,serif\" font-size=\"14.00\">0.244</text>\r\n",
       "<polyline fill=\"none\" stroke=\"black\" points=\"637,-78.3082 684,-78.3082 \"/>\r\n",
       "<text text-anchor=\"middle\" x=\"660.5\" y=\"-63.1082\" font-family=\"Times New Roman,serif\" font-size=\"14.00\">0.464</text>\r\n",
       "</g>\r\n",
       "<!-- D1&#45;&gt;I1 -->\r\n",
       "<g id=\"edge3\" class=\"edge\"><title>D1&#45;&gt;I1</title>\r\n",
       "<path fill=\"none\" stroke=\"black\" d=\"M505.209,-89.8082C524.268,-89.8082 550.829,-89.8082 574.842,-89.8082\"/>\r\n",
       "<polygon fill=\"black\" stroke=\"black\" points=\"574.948,-93.3083 584.948,-89.8082 574.948,-86.3083 574.948,-93.3083\"/>\r\n",
       "<text text-anchor=\"middle\" x=\"558\" y=\"-93.6082\" font-family=\"Times New Roman,serif\" font-size=\"14.00\">0.1</text>\r\n",
       "</g>\r\n",
       "<!-- M2 -->\r\n",
       "<g id=\"node6\" class=\"node\"><title>M2</title>\r\n",
       "<path fill=\"none\" stroke=\"black\" d=\"M750,-41.3082C750,-41.3082 832,-41.3082 832,-41.3082 838,-41.3082 844,-47.3082 844,-53.3082 844,-53.3082 844,-98.3082 844,-98.3082 844,-104.308 838,-110.308 832,-110.308 832,-110.308 750,-110.308 750,-110.308 744,-110.308 738,-104.308 738,-98.3082 738,-98.3082 738,-53.3082 738,-53.3082 738,-47.3082 744,-41.3082 750,-41.3082\"/>\r\n",
       "<text text-anchor=\"middle\" x=\"755.5\" y=\"-72.1082\" font-family=\"Times New Roman,serif\" font-size=\"14.00\">M2</text>\r\n",
       "<polyline fill=\"none\" stroke=\"black\" points=\"773,-41.3082 773,-110.308 \"/>\r\n",
       "<text text-anchor=\"middle\" x=\"785\" y=\"-95.1082\" font-family=\"Times New Roman,serif\" font-size=\"14.00\">a</text>\r\n",
       "<polyline fill=\"none\" stroke=\"black\" points=\"773,-87.3082 797,-87.3082 \"/>\r\n",
       "<text text-anchor=\"middle\" x=\"785\" y=\"-72.1082\" font-family=\"Times New Roman,serif\" font-size=\"14.00\">b</text>\r\n",
       "<polyline fill=\"none\" stroke=\"black\" points=\"773,-64.3082 797,-64.3082 \"/>\r\n",
       "<text text-anchor=\"middle\" x=\"785\" y=\"-49.1082\" font-family=\"Times New Roman,serif\" font-size=\"14.00\">c</text>\r\n",
       "<polyline fill=\"none\" stroke=\"black\" points=\"797,-41.3082 797,-110.308 \"/>\r\n",
       "<text text-anchor=\"middle\" x=\"820.5\" y=\"-95.1082\" font-family=\"Times New Roman,serif\" font-size=\"14.00\">0.349</text>\r\n",
       "<polyline fill=\"none\" stroke=\"black\" points=\"797,-87.3082 844,-87.3082 \"/>\r\n",
       "<text text-anchor=\"middle\" x=\"820.5\" y=\"-72.1082\" font-family=\"Times New Roman,serif\" font-size=\"14.00\">0.349</text>\r\n",
       "<polyline fill=\"none\" stroke=\"black\" points=\"797,-64.3082 844,-64.3082 \"/>\r\n",
       "<text text-anchor=\"middle\" x=\"820.5\" y=\"-49.1082\" font-family=\"Times New Roman,serif\" font-size=\"14.00\">0.303</text>\r\n",
       "</g>\r\n",
       "<!-- D1&#45;&gt;M2 -->\r\n",
       "<g id=\"edge4\" class=\"edge\"><title>D1&#45;&gt;M2</title>\r\n",
       "<path fill=\"none\" stroke=\"black\" d=\"M496.544,-76.3158C516.636,-61.7918 551.159,-39.5916 585,-30.8082 627.589,-19.7541 640.884,-22.035 684,-30.8082 698.946,-33.8493 714.397,-39.0742 728.726,-44.9112\"/>\r\n",
       "<polygon fill=\"black\" stroke=\"black\" points=\"727.389,-48.1461 737.963,-48.8186 730.116,-41.6992 727.389,-48.1461\"/>\r\n",
       "<text text-anchor=\"middle\" x=\"634.5\" y=\"-34.6082\" font-family=\"Times New Roman,serif\" font-size=\"14.00\">0.8</text>\r\n",
       "</g>\r\n",
       "<!-- D3 -->\r\n",
       "<g id=\"node7\" class=\"node\"><title>D3</title>\r\n",
       "<ellipse fill=\"none\" stroke=\"black\" cx=\"1104\" cy=\"-171.808\" rx=\"27\" ry=\"18\"/>\r\n",
       "<text text-anchor=\"middle\" x=\"1104\" y=\"-168.108\" font-family=\"Times New Roman,serif\" font-size=\"14.00\">D3</text>\r\n",
       "</g>\r\n",
       "<!-- D2&#45;&gt;D3 -->\r\n",
       "<g id=\"edge5\" class=\"edge\"><title>D2&#45;&gt;D3</title>\r\n",
       "<path fill=\"none\" stroke=\"black\" d=\"M815.298,-228.14C853.911,-240.669 933.237,-260.962 997,-241.808 1028.74,-232.273 1059.75,-209.807 1079.94,-192.88\"/>\r\n",
       "<polygon fill=\"black\" stroke=\"black\" points=\"1082.35,-195.424 1087.65,-186.247 1077.79,-190.119 1082.35,-195.424\"/>\r\n",
       "<text text-anchor=\"middle\" x=\"947.5\" y=\"-252.608\" font-family=\"Times New Roman,serif\" font-size=\"14.00\">0.1</text>\r\n",
       "</g>\r\n",
       "<!-- I2 -->\r\n",
       "<g id=\"node8\" class=\"node\"><title>I2</title>\r\n",
       "<path fill=\"none\" stroke=\"black\" d=\"M910,-33.3082C910,-33.3082 985,-33.3082 985,-33.3082 991,-33.3082 997,-39.3082 997,-45.3082 997,-45.3082 997,-90.3082 997,-90.3082 997,-96.3082 991,-102.308 985,-102.308 985,-102.308 910,-102.308 910,-102.308 904,-102.308 898,-96.3082 898,-90.3082 898,-90.3082 898,-45.3082 898,-45.3082 898,-39.3082 904,-33.3082 910,-33.3082\"/>\r\n",
       "<text text-anchor=\"middle\" x=\"912\" y=\"-64.1082\" font-family=\"Times New Roman,serif\" font-size=\"14.00\">I2</text>\r\n",
       "<polyline fill=\"none\" stroke=\"black\" points=\"926,-33.3082 926,-102.308 \"/>\r\n",
       "<text text-anchor=\"middle\" x=\"938\" y=\"-87.1082\" font-family=\"Times New Roman,serif\" font-size=\"14.00\">a</text>\r\n",
       "<polyline fill=\"none\" stroke=\"black\" points=\"926,-79.3082 950,-79.3082 \"/>\r\n",
       "<text text-anchor=\"middle\" x=\"938\" y=\"-64.1082\" font-family=\"Times New Roman,serif\" font-size=\"14.00\">b</text>\r\n",
       "<polyline fill=\"none\" stroke=\"black\" points=\"926,-56.3082 950,-56.3082 \"/>\r\n",
       "<text text-anchor=\"middle\" x=\"938\" y=\"-41.1082\" font-family=\"Times New Roman,serif\" font-size=\"14.00\">c</text>\r\n",
       "<polyline fill=\"none\" stroke=\"black\" points=\"950,-33.3082 950,-102.308 \"/>\r\n",
       "<text text-anchor=\"middle\" x=\"973.5\" y=\"-87.1082\" font-family=\"Times New Roman,serif\" font-size=\"14.00\">0.247</text>\r\n",
       "<polyline fill=\"none\" stroke=\"black\" points=\"950,-79.3082 997,-79.3082 \"/>\r\n",
       "<text text-anchor=\"middle\" x=\"973.5\" y=\"-64.1082\" font-family=\"Times New Roman,serif\" font-size=\"14.00\">0.238</text>\r\n",
       "<polyline fill=\"none\" stroke=\"black\" points=\"950,-56.3082 997,-56.3082 \"/>\r\n",
       "<text text-anchor=\"middle\" x=\"973.5\" y=\"-41.1082\" font-family=\"Times New Roman,serif\" font-size=\"14.00\">0.515</text>\r\n",
       "</g>\r\n",
       "<!-- D2&#45;&gt;I2 -->\r\n",
       "<g id=\"edge6\" class=\"edge\"><title>D2&#45;&gt;I2</title>\r\n",
       "<path fill=\"none\" stroke=\"black\" d=\"M807.095,-204.957C829.402,-183.011 872.007,-141.096 904.272,-109.353\"/>\r\n",
       "<polygon fill=\"black\" stroke=\"black\" points=\"906.728,-111.846 911.402,-102.338 901.819,-106.856 906.728,-111.846\"/>\r\n",
       "<text text-anchor=\"middle\" x=\"871\" y=\"-151.608\" font-family=\"Times New Roman,serif\" font-size=\"14.00\">0.1</text>\r\n",
       "</g>\r\n",
       "<!-- M3 -->\r\n",
       "<g id=\"node9\" class=\"node\"><title>M3</title>\r\n",
       "<path fill=\"none\" stroke=\"black\" d=\"M1063,-33.3082C1063,-33.3082 1145,-33.3082 1145,-33.3082 1151,-33.3082 1157,-39.3082 1157,-45.3082 1157,-45.3082 1157,-90.3082 1157,-90.3082 1157,-96.3082 1151,-102.308 1145,-102.308 1145,-102.308 1063,-102.308 1063,-102.308 1057,-102.308 1051,-96.3082 1051,-90.3082 1051,-90.3082 1051,-45.3082 1051,-45.3082 1051,-39.3082 1057,-33.3082 1063,-33.3082\"/>\r\n",
       "<text text-anchor=\"middle\" x=\"1068.5\" y=\"-64.1082\" font-family=\"Times New Roman,serif\" font-size=\"14.00\">M3</text>\r\n",
       "<polyline fill=\"none\" stroke=\"black\" points=\"1086,-33.3082 1086,-102.308 \"/>\r\n",
       "<text text-anchor=\"middle\" x=\"1098\" y=\"-87.1082\" font-family=\"Times New Roman,serif\" font-size=\"14.00\">a</text>\r\n",
       "<polyline fill=\"none\" stroke=\"black\" points=\"1086,-79.3082 1110,-79.3082 \"/>\r\n",
       "<text text-anchor=\"middle\" x=\"1098\" y=\"-64.1082\" font-family=\"Times New Roman,serif\" font-size=\"14.00\">b</text>\r\n",
       "<polyline fill=\"none\" stroke=\"black\" points=\"1086,-56.3082 1110,-56.3082 \"/>\r\n",
       "<text text-anchor=\"middle\" x=\"1098\" y=\"-41.1082\" font-family=\"Times New Roman,serif\" font-size=\"14.00\">c</text>\r\n",
       "<polyline fill=\"none\" stroke=\"black\" points=\"1110,-33.3082 1110,-102.308 \"/>\r\n",
       "<text text-anchor=\"middle\" x=\"1133.5\" y=\"-87.1082\" font-family=\"Times New Roman,serif\" font-size=\"14.00\">0.296</text>\r\n",
       "<polyline fill=\"none\" stroke=\"black\" points=\"1110,-79.3082 1157,-79.3082 \"/>\r\n",
       "<text text-anchor=\"middle\" x=\"1133.5\" y=\"-64.1082\" font-family=\"Times New Roman,serif\" font-size=\"14.00\">0.472</text>\r\n",
       "<polyline fill=\"none\" stroke=\"black\" points=\"1110,-56.3082 1157,-56.3082 \"/>\r\n",
       "<text text-anchor=\"middle\" x=\"1133.5\" y=\"-41.1082\" font-family=\"Times New Roman,serif\" font-size=\"14.00\">0.233</text>\r\n",
       "</g>\r\n",
       "<!-- D2&#45;&gt;M3 -->\r\n",
       "<g id=\"edge7\" class=\"edge\"><title>D2&#45;&gt;M3</title>\r\n",
       "<path fill=\"none\" stroke=\"black\" d=\"M818.37,-219.897C866.592,-219.648 966.808,-217.113 997,-200.808 1016.64,-190.202 1050.05,-145.736 1074.12,-111.102\"/>\r\n",
       "<polygon fill=\"black\" stroke=\"black\" points=\"1077.23,-112.756 1080.02,-102.536 1071.47,-108.784 1077.23,-112.756\"/>\r\n",
       "<text text-anchor=\"middle\" x=\"947.5\" y=\"-220.608\" font-family=\"Times New Roman,serif\" font-size=\"14.00\">0.8</text>\r\n",
       "</g>\r\n",
       "<!-- I1&#45;&gt;D2 -->\r\n",
       "<g id=\"edge13\" class=\"edge\"><title>I1&#45;&gt;D2</title>\r\n",
       "<path fill=\"none\" stroke=\"black\" d=\"M676.903,-124.646C705.208,-148.462 741.763,-179.22 765.535,-199.223\"/>\r\n",
       "<polygon fill=\"black\" stroke=\"black\" points=\"763.471,-202.06 773.376,-205.821 767.978,-196.704 763.471,-202.06\"/>\r\n",
       "<text text-anchor=\"middle\" x=\"711\" y=\"-161.608\" font-family=\"Times New Roman,serif\" font-size=\"14.00\">0.1</text>\r\n",
       "</g>\r\n",
       "<!-- I1&#45;&gt;I1 -->\r\n",
       "<g id=\"edge14\" class=\"edge\"><title>I1&#45;&gt;I1</title>\r\n",
       "<path fill=\"none\" stroke=\"black\" d=\"M620.281,-124.471C620.706,-134.784 625.445,-142.808 634.5,-142.808 640.301,-142.808 644.33,-139.515 646.589,-134.436\"/>\r\n",
       "<polygon fill=\"black\" stroke=\"black\" points=\"650.052,-134.981 648.719,-124.471 643.206,-133.519 650.052,-134.981\"/>\r\n",
       "<text text-anchor=\"middle\" x=\"634.5\" y=\"-146.608\" font-family=\"Times New Roman,serif\" font-size=\"14.00\">0.1</text>\r\n",
       "</g>\r\n",
       "<!-- I1&#45;&gt;M2 -->\r\n",
       "<g id=\"edge15\" class=\"edge\"><title>I1&#45;&gt;M2</title>\r\n",
       "<path fill=\"none\" stroke=\"black\" d=\"M684.385,-85.3785C698.115,-84.1344 713.233,-82.7645 727.633,-81.4595\"/>\r\n",
       "<polygon fill=\"black\" stroke=\"black\" points=\"728.319,-84.9118 737.963,-80.5236 727.687,-77.9404 728.319,-84.9118\"/>\r\n",
       "<text text-anchor=\"middle\" x=\"711\" y=\"-87.6082\" font-family=\"Times New Roman,serif\" font-size=\"14.00\">0.8</text>\r\n",
       "</g>\r\n",
       "<!-- M2&#45;&gt;D3 -->\r\n",
       "<g id=\"edge27\" class=\"edge\"><title>M2&#45;&gt;D3</title>\r\n",
       "<path fill=\"none\" stroke=\"black\" d=\"M812.061,-110.493C824.141,-127.92 841.214,-147.481 862,-157.808 928.614,-190.904 1018.7,-184.84 1067.69,-178.006\"/>\r\n",
       "<polygon fill=\"black\" stroke=\"black\" points=\"1068.41,-181.437 1077.79,-176.504 1067.38,-174.514 1068.41,-181.437\"/>\r\n",
       "<text text-anchor=\"middle\" x=\"947.5\" y=\"-186.608\" font-family=\"Times New Roman,serif\" font-size=\"14.00\">0.1</text>\r\n",
       "</g>\r\n",
       "<!-- M2&#45;&gt;I2 -->\r\n",
       "<g id=\"edge28\" class=\"edge\"><title>M2&#45;&gt;I2</title>\r\n",
       "<path fill=\"none\" stroke=\"black\" d=\"M844.307,-73.0998C858.255,-72.3775 873.418,-71.5924 887.689,-70.8534\"/>\r\n",
       "<polygon fill=\"black\" stroke=\"black\" points=\"888.088,-74.3375 897.894,-70.325 887.726,-67.3469 888.088,-74.3375\"/>\r\n",
       "<text text-anchor=\"middle\" x=\"871\" y=\"-76.6082\" font-family=\"Times New Roman,serif\" font-size=\"14.00\">0.1</text>\r\n",
       "</g>\r\n",
       "<!-- M2&#45;&gt;M3 -->\r\n",
       "<g id=\"edge29\" class=\"edge\"><title>M2&#45;&gt;M3</title>\r\n",
       "<path fill=\"none\" stroke=\"black\" d=\"M834.421,-41.2549C852.813,-28.4138 875.311,-15.3777 898,-8.80819 940.264,3.42906 954.411,2.24588 997,-8.80819 1013.12,-12.9928 1029.4,-20.2227 1044.2,-28.217\"/>\r\n",
       "<polygon fill=\"black\" stroke=\"black\" points=\"1042.77,-31.4306 1053.21,-33.273 1046.2,-25.3263 1042.77,-31.4306\"/>\r\n",
       "<text text-anchor=\"middle\" x=\"947.5\" y=\"-12.6082\" font-family=\"Times New Roman,serif\" font-size=\"14.00\">0.8</text>\r\n",
       "</g>\r\n",
       "<!-- I3 -->\r\n",
       "<g id=\"node10\" class=\"node\"><title>I3</title>\r\n",
       "<path fill=\"none\" stroke=\"black\" d=\"M1223,-49.3082C1223,-49.3082 1298,-49.3082 1298,-49.3082 1304,-49.3082 1310,-55.3082 1310,-61.3082 1310,-61.3082 1310,-106.308 1310,-106.308 1310,-112.308 1304,-118.308 1298,-118.308 1298,-118.308 1223,-118.308 1223,-118.308 1217,-118.308 1211,-112.308 1211,-106.308 1211,-106.308 1211,-61.3082 1211,-61.3082 1211,-55.3082 1217,-49.3082 1223,-49.3082\"/>\r\n",
       "<text text-anchor=\"middle\" x=\"1225\" y=\"-80.1082\" font-family=\"Times New Roman,serif\" font-size=\"14.00\">I3</text>\r\n",
       "<polyline fill=\"none\" stroke=\"black\" points=\"1239,-49.3082 1239,-118.308 \"/>\r\n",
       "<text text-anchor=\"middle\" x=\"1251\" y=\"-103.108\" font-family=\"Times New Roman,serif\" font-size=\"14.00\">a</text>\r\n",
       "<polyline fill=\"none\" stroke=\"black\" points=\"1239,-95.3082 1263,-95.3082 \"/>\r\n",
       "<text text-anchor=\"middle\" x=\"1251\" y=\"-80.1082\" font-family=\"Times New Roman,serif\" font-size=\"14.00\">b</text>\r\n",
       "<polyline fill=\"none\" stroke=\"black\" points=\"1239,-72.3082 1263,-72.3082 \"/>\r\n",
       "<text text-anchor=\"middle\" x=\"1251\" y=\"-57.1082\" font-family=\"Times New Roman,serif\" font-size=\"14.00\">c</text>\r\n",
       "<polyline fill=\"none\" stroke=\"black\" points=\"1263,-49.3082 1263,-118.308 \"/>\r\n",
       "<text text-anchor=\"middle\" x=\"1286.5\" y=\"-103.108\" font-family=\"Times New Roman,serif\" font-size=\"14.00\">0.39</text>\r\n",
       "<polyline fill=\"none\" stroke=\"black\" points=\"1263,-95.3082 1310,-95.3082 \"/>\r\n",
       "<text text-anchor=\"middle\" x=\"1286.5\" y=\"-80.1082\" font-family=\"Times New Roman,serif\" font-size=\"14.00\">0.347</text>\r\n",
       "<polyline fill=\"none\" stroke=\"black\" points=\"1263,-72.3082 1310,-72.3082 \"/>\r\n",
       "<text text-anchor=\"middle\" x=\"1286.5\" y=\"-57.1082\" font-family=\"Times New Roman,serif\" font-size=\"14.00\">0.264</text>\r\n",
       "</g>\r\n",
       "<!-- D3&#45;&gt;I3 -->\r\n",
       "<g id=\"edge8\" class=\"edge\"><title>D3&#45;&gt;I3</title>\r\n",
       "<path fill=\"none\" stroke=\"black\" d=\"M1125.2,-160.304C1144.6,-149.253 1174.85,-132.025 1201.73,-116.714\"/>\r\n",
       "<polygon fill=\"black\" stroke=\"black\" points=\"1203.74,-119.597 1210.69,-111.607 1200.27,-113.515 1203.74,-119.597\"/>\r\n",
       "<text text-anchor=\"middle\" x=\"1184\" y=\"-133.608\" font-family=\"Times New Roman,serif\" font-size=\"14.00\">0.1</text>\r\n",
       "</g>\r\n",
       "<!-- M4 -->\r\n",
       "<g id=\"node11\" class=\"node\"><title>M4</title>\r\n",
       "<path fill=\"none\" stroke=\"black\" d=\"M1376,-65.8082C1376,-65.8082 1458,-65.8082 1458,-65.8082 1464,-65.8082 1470,-71.8082 1470,-77.8082 1470,-77.8082 1470,-89.8082 1470,-89.8082 1470,-95.8082 1464,-101.808 1458,-101.808 1458,-101.808 1376,-101.808 1376,-101.808 1370,-101.808 1364,-95.8082 1364,-89.8082 1364,-89.8082 1364,-77.8082 1364,-77.8082 1364,-71.8082 1370,-65.8082 1376,-65.8082\"/>\r\n",
       "<text text-anchor=\"middle\" x=\"1381.5\" y=\"-80.1082\" font-family=\"Times New Roman,serif\" font-size=\"14.00\">M4</text>\r\n",
       "<polyline fill=\"none\" stroke=\"black\" points=\"1399,-65.8082 1399,-101.808 \"/>\r\n",
       "<text text-anchor=\"middle\" x=\"1417.5\" y=\"-80.1082\" font-family=\"Times New Roman,serif\" font-size=\"14.00\">end</text>\r\n",
       "<polyline fill=\"none\" stroke=\"black\" points=\"1436,-65.8082 1436,-101.808 \"/>\r\n",
       "<text text-anchor=\"middle\" x=\"1453\" y=\"-80.1082\" font-family=\"Times New Roman,serif\" font-size=\"14.00\">1.0</text>\r\n",
       "</g>\r\n",
       "<!-- D3&#45;&gt;M4 -->\r\n",
       "<g id=\"edge9\" class=\"edge\"><title>D3&#45;&gt;M4</title>\r\n",
       "<path fill=\"none\" stroke=\"black\" d=\"M1130.83,-174.987C1170.62,-178.887 1248.7,-182.557 1310,-160.808 1340.85,-149.865 1370.51,-126.895 1390.57,-108.877\"/>\r\n",
       "<polygon fill=\"black\" stroke=\"black\" points=\"1393.05,-111.352 1398.03,-102.003 1388.3,-106.204 1393.05,-111.352\"/>\r\n",
       "<text text-anchor=\"middle\" x=\"1260.5\" y=\"-180.608\" font-family=\"Times New Roman,serif\" font-size=\"14.00\">0.9</text>\r\n",
       "</g>\r\n",
       "<!-- I2&#45;&gt;D3 -->\r\n",
       "<g id=\"edge16\" class=\"edge\"><title>I2&#45;&gt;D3</title>\r\n",
       "<path fill=\"none\" stroke=\"black\" d=\"M997.385,-100.714C1023.34,-118.184 1054.25,-138.992 1075.9,-153.567\"/>\r\n",
       "<polygon fill=\"black\" stroke=\"black\" points=\"1074.04,-156.531 1084.29,-159.212 1077.95,-150.724 1074.04,-156.531\"/>\r\n",
       "<text text-anchor=\"middle\" x=\"1024\" y=\"-126.608\" font-family=\"Times New Roman,serif\" font-size=\"14.00\">0.1</text>\r\n",
       "</g>\r\n",
       "<!-- I2&#45;&gt;I2 -->\r\n",
       "<g id=\"edge17\" class=\"edge\"><title>I2&#45;&gt;I2</title>\r\n",
       "<path fill=\"none\" stroke=\"black\" d=\"M933.281,-102.471C933.706,-112.784 938.445,-120.808 947.5,-120.808 953.301,-120.808 957.33,-117.515 959.589,-112.436\"/>\r\n",
       "<polygon fill=\"black\" stroke=\"black\" points=\"963.052,-112.981 961.719,-102.471 956.206,-111.519 963.052,-112.981\"/>\r\n",
       "<text text-anchor=\"middle\" x=\"947.5\" y=\"-124.608\" font-family=\"Times New Roman,serif\" font-size=\"14.00\">0.1</text>\r\n",
       "</g>\r\n",
       "<!-- I2&#45;&gt;M3 -->\r\n",
       "<g id=\"edge18\" class=\"edge\"><title>I2&#45;&gt;M3</title>\r\n",
       "<path fill=\"none\" stroke=\"black\" d=\"M997.385,-67.8082C1011.11,-67.8082 1026.23,-67.8082 1040.63,-67.8082\"/>\r\n",
       "<polygon fill=\"black\" stroke=\"black\" points=\"1040.96,-71.3083 1050.96,-67.8082 1040.96,-64.3083 1040.96,-71.3083\"/>\r\n",
       "<text text-anchor=\"middle\" x=\"1024\" y=\"-71.6082\" font-family=\"Times New Roman,serif\" font-size=\"14.00\">0.8</text>\r\n",
       "</g>\r\n",
       "<!-- M3&#45;&gt;I3 -->\r\n",
       "<g id=\"edge30\" class=\"edge\"><title>M3&#45;&gt;I3</title>\r\n",
       "<path fill=\"none\" stroke=\"black\" d=\"M1157.31,-73.2251C1171.25,-74.6695 1186.42,-76.2398 1200.69,-77.7178\"/>\r\n",
       "<polygon fill=\"black\" stroke=\"black\" points=\"1200.59,-81.2257 1210.89,-78.7745 1201.31,-74.263 1200.59,-81.2257\"/>\r\n",
       "<text text-anchor=\"middle\" x=\"1184\" y=\"-80.6082\" font-family=\"Times New Roman,serif\" font-size=\"14.00\">0.1</text>\r\n",
       "</g>\r\n",
       "<!-- M3&#45;&gt;M4 -->\r\n",
       "<g id=\"edge31\" class=\"edge\"><title>M3&#45;&gt;M4</title>\r\n",
       "<path fill=\"none\" stroke=\"black\" d=\"M1157.15,-42.0112C1173.93,-34.9869 1192.87,-28.345 1211,-24.8082 1254.19,-16.3823 1267.41,-13.7541 1310,-24.8082 1336.46,-31.6758 1363.34,-46.7458 1383.41,-59.9354\"/>\r\n",
       "<polygon fill=\"black\" stroke=\"black\" points=\"1381.6,-62.9386 1391.85,-65.6347 1385.52,-57.1375 1381.6,-62.9386\"/>\r\n",
       "<text text-anchor=\"middle\" x=\"1260.5\" y=\"-28.6082\" font-family=\"Times New Roman,serif\" font-size=\"14.00\">0.9</text>\r\n",
       "</g>\r\n",
       "<!-- I3&#45;&gt;I3 -->\r\n",
       "<g id=\"edge19\" class=\"edge\"><title>I3&#45;&gt;I3</title>\r\n",
       "<path fill=\"none\" stroke=\"black\" d=\"M1246.28,-118.471C1246.71,-128.784 1251.45,-136.808 1260.5,-136.808 1266.3,-136.808 1270.33,-133.515 1272.59,-128.436\"/>\r\n",
       "<polygon fill=\"black\" stroke=\"black\" points=\"1276.05,-128.981 1274.72,-118.471 1269.21,-127.519 1276.05,-128.981\"/>\r\n",
       "<text text-anchor=\"middle\" x=\"1260.5\" y=\"-140.608\" font-family=\"Times New Roman,serif\" font-size=\"14.00\">0.1</text>\r\n",
       "</g>\r\n",
       "<!-- I3&#45;&gt;M4 -->\r\n",
       "<g id=\"edge20\" class=\"edge\"><title>I3&#45;&gt;M4</title>\r\n",
       "<path fill=\"none\" stroke=\"black\" d=\"M1310.38,-83.8082C1324.11,-83.8082 1339.23,-83.8082 1353.63,-83.8082\"/>\r\n",
       "<polygon fill=\"black\" stroke=\"black\" points=\"1353.96,-87.3083 1363.96,-83.8082 1353.96,-80.3083 1353.96,-87.3083\"/>\r\n",
       "<text text-anchor=\"middle\" x=\"1337\" y=\"-87.6082\" font-family=\"Times New Roman,serif\" font-size=\"14.00\">0.9</text>\r\n",
       "</g>\r\n",
       "<!-- I0&#45;&gt;D1 -->\r\n",
       "<g id=\"edge10\" class=\"edge\"><title>I0&#45;&gt;D1</title>\r\n",
       "<path fill=\"none\" stroke=\"black\" d=\"M371.385,-130.824C395.349,-121.517 423.542,-110.569 444.769,-102.325\"/>\r\n",
       "<polygon fill=\"black\" stroke=\"black\" points=\"446.231,-105.512 454.286,-98.6292 443.697,-98.9867 446.231,-105.512\"/>\r\n",
       "<text text-anchor=\"middle\" x=\"398\" y=\"-126.608\" font-family=\"Times New Roman,serif\" font-size=\"14.00\">0.1</text>\r\n",
       "</g>\r\n",
       "<!-- I0&#45;&gt;I0 -->\r\n",
       "<g id=\"edge11\" class=\"edge\"><title>I0&#45;&gt;I0</title>\r\n",
       "<path fill=\"none\" stroke=\"black\" d=\"M307.281,-184.471C307.706,-194.784 312.445,-202.808 321.5,-202.808 327.301,-202.808 331.33,-199.515 333.589,-194.436\"/>\r\n",
       "<polygon fill=\"black\" stroke=\"black\" points=\"337.052,-194.981 335.719,-184.471 330.206,-193.519 337.052,-194.981\"/>\r\n",
       "<text text-anchor=\"middle\" x=\"321.5\" y=\"-206.608\" font-family=\"Times New Roman,serif\" font-size=\"14.00\">0.1</text>\r\n",
       "</g>\r\n",
       "<!-- I0&#45;&gt;M1 -->\r\n",
       "<g id=\"edge12\" class=\"edge\"><title>I0&#45;&gt;M1</title>\r\n",
       "<path fill=\"none\" stroke=\"black\" d=\"M371.385,-179.867C385.648,-188.637 401.409,-198.328 416.308,-207.489\"/>\r\n",
       "<polygon fill=\"black\" stroke=\"black\" points=\"414.611,-210.555 424.963,-212.811 418.277,-204.592 414.611,-210.555\"/>\r\n",
       "<text text-anchor=\"middle\" x=\"398\" y=\"-203.608\" font-family=\"Times New Roman,serif\" font-size=\"14.00\">0.8</text>\r\n",
       "</g>\r\n",
       "<!-- M1&#45;&gt;D2 -->\r\n",
       "<g id=\"edge24\" class=\"edge\"><title>M1&#45;&gt;D2</title>\r\n",
       "<path fill=\"none\" stroke=\"black\" d=\"M531.247,-257.881C572.934,-266.342 632.647,-274.043 684,-263.808 711.113,-258.404 739.974,-245.933 760.724,-235.643\"/>\r\n",
       "<polygon fill=\"black\" stroke=\"black\" points=\"762.325,-238.755 769.651,-231.101 759.151,-232.516 762.325,-238.755\"/>\r\n",
       "<text text-anchor=\"middle\" x=\"634.5\" y=\"-271.608\" font-family=\"Times New Roman,serif\" font-size=\"14.00\">0.1</text>\r\n",
       "</g>\r\n",
       "<!-- M1&#45;&gt;I1 -->\r\n",
       "<g id=\"edge25\" class=\"edge\"><title>M1&#45;&gt;I1</title>\r\n",
       "<path fill=\"none\" stroke=\"black\" d=\"M513.673,-210.023C536.732,-186.889 567.153,-156.37 591.572,-131.872\"/>\r\n",
       "<polygon fill=\"black\" stroke=\"black\" points=\"594.362,-134.031 598.943,-124.477 589.404,-129.089 594.362,-134.031\"/>\r\n",
       "<text text-anchor=\"middle\" x=\"558\" y=\"-175.608\" font-family=\"Times New Roman,serif\" font-size=\"14.00\">0.1</text>\r\n",
       "</g>\r\n",
       "<!-- M1&#45;&gt;M2 -->\r\n",
       "<g id=\"edge26\" class=\"edge\"><title>M1&#45;&gt;M2</title>\r\n",
       "<path fill=\"none\" stroke=\"black\" d=\"M531.368,-243.78C583.292,-241.954 658.651,-236.882 684,-222.808 724.86,-200.123 753.99,-154.275 771.246,-119.78\"/>\r\n",
       "<polygon fill=\"black\" stroke=\"black\" points=\"774.589,-120.906 775.798,-110.38 768.289,-117.855 774.589,-120.906\"/>\r\n",
       "<text text-anchor=\"middle\" x=\"634.5\" y=\"-244.608\" font-family=\"Times New Roman,serif\" font-size=\"14.00\">0.8</text>\r\n",
       "</g>\r\n",
       "</g>\r\n",
       "</svg>\r\n"
      ],
      "text/plain": [
       "<graphviz.dot.Digraph at 0x2288cb0a3c8>"
      ]
     },
     "metadata": {},
     "output_type": "display_data"
    }
   ],
   "source": [
    "corpus={\n",
    "    ('a','b','c'):{'count':100},\n",
    "    ('a','b'):{'count':10},\n",
    "    ('b','c'):{'count':10},\n",
    "    ('a','c'):{'count':10},\n",
    "    ('c','a','b','c'):{'count':10},\n",
    "    ('a','c','b','c'):{'count':10},\n",
    "    ('a','b','a','c'):{'count':10},\n",
    "    ('a','b','c','a'):{'count':10},\n",
    "    #('b','a','b'):{'count':50},\n",
    "}\n",
    "symbols=getsymbols(corpus)\n",
    "(priors,states)=initializephmm(3,symbols)\n",
    "#priors[2].loc['M1','a']=5.0\n",
    "#priors[2].loc['M2','b']=5.0\n",
    "#priors[2].loc['M3','c']=5.0\n",
    "#normbyrow(priors[2])\n",
    "pHMMviz(priors,states)"
   ]
  },
  {
   "cell_type": "code",
   "execution_count": 421,
   "metadata": {
    "ExecuteTime": {
     "end_time": "2017-10-24T21:15:05.315758Z",
     "start_time": "2017-10-24T21:14:54.903822Z"
    }
   },
   "outputs": [
    {
     "data": {
      "text/plain": [
       "-395.10357542956302"
      ]
     },
     "metadata": {},
     "output_type": "display_data"
    },
    {
     "data": {
      "text/plain": [
       "-323.14585933930516"
      ]
     },
     "metadata": {},
     "output_type": "display_data"
    },
    {
     "data": {
      "text/plain": [
       "-307.22569804582247"
      ]
     },
     "metadata": {},
     "output_type": "display_data"
    },
    {
     "data": {
      "text/plain": [
       "-305.8312944474556"
      ]
     },
     "metadata": {},
     "output_type": "display_data"
    },
    {
     "data": {
      "text/plain": [
       "-305.81323531761586"
      ]
     },
     "metadata": {},
     "output_type": "display_data"
    },
    {
     "data": {
      "text/plain": [
       "-305.82870287954273"
      ]
     },
     "metadata": {},
     "output_type": "display_data"
    },
    {
     "data": {
      "text/plain": [
       "-305.83695007151346"
      ]
     },
     "metadata": {},
     "output_type": "display_data"
    },
    {
     "data": {
      "text/plain": [
       "-305.84110295905322"
      ]
     },
     "metadata": {},
     "output_type": "display_data"
    },
    {
     "data": {
      "text/plain": [
       "-305.84320335009534"
      ]
     },
     "metadata": {},
     "output_type": "display_data"
    },
    {
     "data": {
      "text/plain": [
       "-305.84426752842813"
      ]
     },
     "metadata": {},
     "output_type": "display_data"
    },
    {
     "data": {
      "image/svg+xml": [
       "<?xml version=\"1.0\" encoding=\"UTF-8\" standalone=\"no\"?>\r\n",
       "<!DOCTYPE svg PUBLIC \"-//W3C//DTD SVG 1.1//EN\"\r\n",
       " \"http://www.w3.org/Graphics/SVG/1.1/DTD/svg11.dtd\">\r\n",
       "<!-- Generated by graphviz version 2.38.0 (20140413.2041)\r\n",
       " -->\r\n",
       "<!-- Title: G Pages: 1 -->\r\n",
       "<svg width=\"1152pt\" height=\"211pt\"\r\n",
       " viewBox=\"0.00 0.00 1152.00 211.19\" xmlns=\"http://www.w3.org/2000/svg\" xmlns:xlink=\"http://www.w3.org/1999/xlink\">\r\n",
       "<g id=\"graph0\" class=\"graph\" transform=\"scale(0.728192 0.728192) rotate(0) translate(4 286.018)\">\r\n",
       "<title>G</title>\r\n",
       "<polygon fill=\"white\" stroke=\"none\" points=\"-4,4 -4,-286.018 1578,-286.018 1578,4 -4,4\"/>\r\n",
       "<!-- start -->\r\n",
       "<g id=\"node1\" class=\"node\"><title>start</title>\r\n",
       "<ellipse fill=\"none\" stroke=\"black\" cx=\"27\" cy=\"-149.018\" rx=\"27\" ry=\"18\"/>\r\n",
       "<text text-anchor=\"middle\" x=\"27\" y=\"-145.318\" font-family=\"Times New Roman,serif\" font-size=\"14.00\">start</text>\r\n",
       "</g>\r\n",
       "<!-- M0 -->\r\n",
       "<g id=\"node2\" class=\"node\"><title>M0</title>\r\n",
       "<path fill=\"none\" stroke=\"black\" d=\"M120,-131.018C120,-131.018 206,-131.018 206,-131.018 212,-131.018 218,-137.018 218,-143.018 218,-143.018 218,-155.018 218,-155.018 218,-161.018 212,-167.018 206,-167.018 206,-167.018 120,-167.018 120,-167.018 114,-167.018 108,-161.018 108,-155.018 108,-155.018 108,-143.018 108,-143.018 108,-137.018 114,-131.018 120,-131.018\"/>\r\n",
       "<text text-anchor=\"middle\" x=\"125.5\" y=\"-145.318\" font-family=\"Times New Roman,serif\" font-size=\"14.00\">M0</text>\r\n",
       "<polyline fill=\"none\" stroke=\"black\" points=\"143,-131.018 143,-167.018 \"/>\r\n",
       "<text text-anchor=\"middle\" x=\"163.5\" y=\"-145.318\" font-family=\"Times New Roman,serif\" font-size=\"14.00\">start</text>\r\n",
       "<polyline fill=\"none\" stroke=\"black\" points=\"184,-131.018 184,-167.018 \"/>\r\n",
       "<text text-anchor=\"middle\" x=\"201\" y=\"-145.318\" font-family=\"Times New Roman,serif\" font-size=\"14.00\">1.0</text>\r\n",
       "</g>\r\n",
       "<!-- start&#45;&gt;M0 -->\r\n",
       "<g id=\"edge1\" class=\"edge\"><title>start&#45;&gt;M0</title>\r\n",
       "<path fill=\"none\" stroke=\"black\" d=\"M54.1547,-149.018C66.7129,-149.018 82.3672,-149.018 97.8209,-149.018\"/>\r\n",
       "<polygon fill=\"black\" stroke=\"black\" points=\"97.9128,-152.518 107.913,-149.018 97.9127,-145.518 97.9128,-152.518\"/>\r\n",
       "<text text-anchor=\"middle\" x=\"81\" y=\"-152.818\" font-family=\"Times New Roman,serif\" font-size=\"14.00\">1.0</text>\r\n",
       "</g>\r\n",
       "<!-- I0 -->\r\n",
       "<g id=\"node3\" class=\"node\"><title>I0</title>\r\n",
       "<path fill=\"none\" stroke=\"black\" d=\"M297,-114.518C297,-114.518 372,-114.518 372,-114.518 378,-114.518 384,-120.518 384,-126.518 384,-126.518 384,-171.518 384,-171.518 384,-177.518 378,-183.518 372,-183.518 372,-183.518 297,-183.518 297,-183.518 291,-183.518 285,-177.518 285,-171.518 285,-171.518 285,-126.518 285,-126.518 285,-120.518 291,-114.518 297,-114.518\"/>\r\n",
       "<text text-anchor=\"middle\" x=\"299\" y=\"-145.318\" font-family=\"Times New Roman,serif\" font-size=\"14.00\">I0</text>\r\n",
       "<polyline fill=\"none\" stroke=\"black\" points=\"313,-114.518 313,-183.518 \"/>\r\n",
       "<text text-anchor=\"middle\" x=\"325\" y=\"-168.318\" font-family=\"Times New Roman,serif\" font-size=\"14.00\">a</text>\r\n",
       "<polyline fill=\"none\" stroke=\"black\" points=\"313,-160.518 337,-160.518 \"/>\r\n",
       "<text text-anchor=\"middle\" x=\"325\" y=\"-145.318\" font-family=\"Times New Roman,serif\" font-size=\"14.00\">b</text>\r\n",
       "<polyline fill=\"none\" stroke=\"black\" points=\"313,-137.518 337,-137.518 \"/>\r\n",
       "<text text-anchor=\"middle\" x=\"325\" y=\"-122.318\" font-family=\"Times New Roman,serif\" font-size=\"14.00\">c</text>\r\n",
       "<polyline fill=\"none\" stroke=\"black\" points=\"337,-114.518 337,-183.518 \"/>\r\n",
       "<text text-anchor=\"middle\" x=\"360.5\" y=\"-168.318\" font-family=\"Times New Roman,serif\" font-size=\"14.00\">0.078</text>\r\n",
       "<polyline fill=\"none\" stroke=\"black\" points=\"337,-160.518 384,-160.518 \"/>\r\n",
       "<text text-anchor=\"middle\" x=\"360.5\" y=\"-145.318\" font-family=\"Times New Roman,serif\" font-size=\"14.00\">0.077</text>\r\n",
       "<polyline fill=\"none\" stroke=\"black\" points=\"337,-137.518 384,-137.518 \"/>\r\n",
       "<text text-anchor=\"middle\" x=\"360.5\" y=\"-122.318\" font-family=\"Times New Roman,serif\" font-size=\"14.00\">0.845</text>\r\n",
       "</g>\r\n",
       "<!-- M0&#45;&gt;I0 -->\r\n",
       "<g id=\"edge2\" class=\"edge\"><title>M0&#45;&gt;I0</title>\r\n",
       "<path fill=\"none\" stroke=\"black\" d=\"M218.097,-149.018C236.163,-149.018 256.377,-149.018 274.778,-149.018\"/>\r\n",
       "<polygon fill=\"black\" stroke=\"black\" points=\"274.789,-152.518 284.789,-149.018 274.789,-145.518 274.789,-152.518\"/>\r\n",
       "<text text-anchor=\"middle\" x=\"251.5\" y=\"-152.818\" font-family=\"Times New Roman,serif\" font-size=\"14.00\">0.077</text>\r\n",
       "</g>\r\n",
       "<!-- M1 -->\r\n",
       "<g id=\"node4\" class=\"node\"><title>M1</title>\r\n",
       "<path fill=\"none\" stroke=\"black\" d=\"M463,-209.518C463,-209.518 545,-209.518 545,-209.518 551,-209.518 557,-215.518 557,-221.518 557,-221.518 557,-266.518 557,-266.518 557,-272.518 551,-278.518 545,-278.518 545,-278.518 463,-278.518 463,-278.518 457,-278.518 451,-272.518 451,-266.518 451,-266.518 451,-221.518 451,-221.518 451,-215.518 457,-209.518 463,-209.518\"/>\r\n",
       "<text text-anchor=\"middle\" x=\"468.5\" y=\"-240.318\" font-family=\"Times New Roman,serif\" font-size=\"14.00\">M1</text>\r\n",
       "<polyline fill=\"none\" stroke=\"black\" points=\"486,-209.518 486,-278.518 \"/>\r\n",
       "<text text-anchor=\"middle\" x=\"498\" y=\"-263.318\" font-family=\"Times New Roman,serif\" font-size=\"14.00\">a</text>\r\n",
       "<polyline fill=\"none\" stroke=\"black\" points=\"486,-255.518 510,-255.518 \"/>\r\n",
       "<text text-anchor=\"middle\" x=\"498\" y=\"-240.318\" font-family=\"Times New Roman,serif\" font-size=\"14.00\">b</text>\r\n",
       "<polyline fill=\"none\" stroke=\"black\" points=\"486,-232.518 510,-232.518 \"/>\r\n",
       "<text text-anchor=\"middle\" x=\"498\" y=\"-217.318\" font-family=\"Times New Roman,serif\" font-size=\"14.00\">c</text>\r\n",
       "<polyline fill=\"none\" stroke=\"black\" points=\"510,-209.518 510,-278.518 \"/>\r\n",
       "<text text-anchor=\"middle\" x=\"533.5\" y=\"-263.318\" font-family=\"Times New Roman,serif\" font-size=\"14.00\">0.986</text>\r\n",
       "<polyline fill=\"none\" stroke=\"black\" points=\"510,-255.518 557,-255.518 \"/>\r\n",
       "<text text-anchor=\"middle\" x=\"533.5\" y=\"-240.318\" font-family=\"Times New Roman,serif\" font-size=\"14.00\">0.007</text>\r\n",
       "<polyline fill=\"none\" stroke=\"black\" points=\"510,-232.518 557,-232.518 \"/>\r\n",
       "<text text-anchor=\"middle\" x=\"533.5\" y=\"-217.318\" font-family=\"Times New Roman,serif\" font-size=\"14.00\">0.007</text>\r\n",
       "</g>\r\n",
       "<!-- M0&#45;&gt;M1 -->\r\n",
       "<g id=\"edge3\" class=\"edge\"><title>M0&#45;&gt;M1</title>\r\n",
       "<path fill=\"none\" stroke=\"black\" d=\"M185.498,-167.336C208.469,-185.737 246.768,-213.155 285,-226.018 335.589,-243.039 396.341,-246.796 440.847,-246.723\"/>\r\n",
       "<polygon fill=\"black\" stroke=\"black\" points=\"440.968,-250.222 450.939,-246.64 440.911,-243.222 440.968,-250.222\"/>\r\n",
       "<text text-anchor=\"middle\" x=\"334.5\" y=\"-247.818\" font-family=\"Times New Roman,serif\" font-size=\"14.00\">0.911</text>\r\n",
       "</g>\r\n",
       "<!-- D1 -->\r\n",
       "<g id=\"node5\" class=\"node\"><title>D1</title>\r\n",
       "<ellipse fill=\"none\" stroke=\"black\" cx=\"504\" cy=\"-89.0183\" rx=\"27\" ry=\"18\"/>\r\n",
       "<text text-anchor=\"middle\" x=\"504\" y=\"-85.3183\" font-family=\"Times New Roman,serif\" font-size=\"14.00\">D1</text>\r\n",
       "</g>\r\n",
       "<!-- M0&#45;&gt;D1 -->\r\n",
       "<g id=\"edge4\" class=\"edge\"><title>M0&#45;&gt;D1</title>\r\n",
       "<path fill=\"none\" stroke=\"black\" d=\"M191.971,-130.858C215.661,-116.617 251.087,-97.9278 285,-90.0183 347.824,-75.3659 423.63,-79.7815 467.281,-84.3693\"/>\r\n",
       "<polygon fill=\"black\" stroke=\"black\" points=\"467.071,-87.8675 477.397,-85.497 467.846,-80.9106 467.071,-87.8675\"/>\r\n",
       "<text text-anchor=\"middle\" x=\"334.5\" y=\"-93.8183\" font-family=\"Times New Roman,serif\" font-size=\"14.00\">0.012</text>\r\n",
       "</g>\r\n",
       "<!-- I0&#45;&gt;I0 -->\r\n",
       "<g id=\"edge5\" class=\"edge\"><title>I0&#45;&gt;I0</title>\r\n",
       "<path fill=\"none\" stroke=\"black\" d=\"M319.159,-183.681C319.617,-193.994 324.73,-202.018 334.5,-202.018 340.759,-202.018 345.106,-198.725 347.544,-193.646\"/>\r\n",
       "<polygon fill=\"black\" stroke=\"black\" points=\"351.005,-194.211 349.841,-183.681 344.184,-192.639 351.005,-194.211\"/>\r\n",
       "<text text-anchor=\"middle\" x=\"334.5\" y=\"-205.818\" font-family=\"Times New Roman,serif\" font-size=\"14.00\">0.077</text>\r\n",
       "</g>\r\n",
       "<!-- I0&#45;&gt;M1 -->\r\n",
       "<g id=\"edge6\" class=\"edge\"><title>I0&#45;&gt;M1</title>\r\n",
       "<path fill=\"none\" stroke=\"black\" d=\"M384.398,-176.752C402.404,-186.964 423.026,-198.66 441.97,-209.404\"/>\r\n",
       "<polygon fill=\"black\" stroke=\"black\" points=\"440.402,-212.539 450.827,-214.428 443.855,-206.45 440.402,-212.539\"/>\r\n",
       "<text text-anchor=\"middle\" x=\"417.5\" y=\"-205.818\" font-family=\"Times New Roman,serif\" font-size=\"14.00\">0.845</text>\r\n",
       "</g>\r\n",
       "<!-- I0&#45;&gt;D1 -->\r\n",
       "<g id=\"edge7\" class=\"edge\"><title>I0&#45;&gt;D1</title>\r\n",
       "<path fill=\"none\" stroke=\"black\" d=\"M384.398,-131.502C412.066,-121.592 445.909,-109.469 470.352,-100.713\"/>\r\n",
       "<polygon fill=\"black\" stroke=\"black\" points=\"471.645,-103.968 479.879,-97.3005 469.284,-97.3778 471.645,-103.968\"/>\r\n",
       "<text text-anchor=\"middle\" x=\"417.5\" y=\"-128.818\" font-family=\"Times New Roman,serif\" font-size=\"14.00\">0.078</text>\r\n",
       "</g>\r\n",
       "<!-- I1 -->\r\n",
       "<g id=\"node6\" class=\"node\"><title>I1</title>\r\n",
       "<path fill=\"none\" stroke=\"black\" d=\"M636,-54.5183C636,-54.5183 711,-54.5183 711,-54.5183 717,-54.5183 723,-60.5183 723,-66.5183 723,-66.5183 723,-111.518 723,-111.518 723,-117.518 717,-123.518 711,-123.518 711,-123.518 636,-123.518 636,-123.518 630,-123.518 624,-117.518 624,-111.518 624,-111.518 624,-66.5183 624,-66.5183 624,-60.5183 630,-54.5183 636,-54.5183\"/>\r\n",
       "<text text-anchor=\"middle\" x=\"638\" y=\"-85.3183\" font-family=\"Times New Roman,serif\" font-size=\"14.00\">I1</text>\r\n",
       "<polyline fill=\"none\" stroke=\"black\" points=\"652,-54.5183 652,-123.518 \"/>\r\n",
       "<text text-anchor=\"middle\" x=\"664\" y=\"-108.318\" font-family=\"Times New Roman,serif\" font-size=\"14.00\">a</text>\r\n",
       "<polyline fill=\"none\" stroke=\"black\" points=\"652,-100.518 676,-100.518 \"/>\r\n",
       "<text text-anchor=\"middle\" x=\"664\" y=\"-85.3183\" font-family=\"Times New Roman,serif\" font-size=\"14.00\">b</text>\r\n",
       "<polyline fill=\"none\" stroke=\"black\" points=\"652,-77.5183 676,-77.5183 \"/>\r\n",
       "<text text-anchor=\"middle\" x=\"664\" y=\"-62.3183\" font-family=\"Times New Roman,serif\" font-size=\"14.00\">c</text>\r\n",
       "<polyline fill=\"none\" stroke=\"black\" points=\"676,-54.5183 676,-123.518 \"/>\r\n",
       "<text text-anchor=\"middle\" x=\"699.5\" y=\"-108.318\" font-family=\"Times New Roman,serif\" font-size=\"14.00\">0.079</text>\r\n",
       "<polyline fill=\"none\" stroke=\"black\" points=\"676,-100.518 723,-100.518 \"/>\r\n",
       "<text text-anchor=\"middle\" x=\"699.5\" y=\"-85.3183\" font-family=\"Times New Roman,serif\" font-size=\"14.00\">0.077</text>\r\n",
       "<polyline fill=\"none\" stroke=\"black\" points=\"676,-77.5183 723,-77.5183 \"/>\r\n",
       "<text text-anchor=\"middle\" x=\"699.5\" y=\"-62.3183\" font-family=\"Times New Roman,serif\" font-size=\"14.00\">0.844</text>\r\n",
       "</g>\r\n",
       "<!-- M1&#45;&gt;I1 -->\r\n",
       "<g id=\"edge8\" class=\"edge\"><title>M1&#45;&gt;I1</title>\r\n",
       "<path fill=\"none\" stroke=\"black\" d=\"M542.59,-209.233C567.698,-185.999 600.854,-155.317 627.386,-130.766\"/>\r\n",
       "<polygon fill=\"black\" stroke=\"black\" points=\"630.073,-133.048 635.035,-123.687 625.318,-127.91 630.073,-133.048\"/>\r\n",
       "<text text-anchor=\"middle\" x=\"590.5\" y=\"-179.818\" font-family=\"Times New Roman,serif\" font-size=\"14.00\">0.072</text>\r\n",
       "</g>\r\n",
       "<!-- M2 -->\r\n",
       "<g id=\"node7\" class=\"node\"><title>M2</title>\r\n",
       "<path fill=\"none\" stroke=\"black\" d=\"M802,-40.5183C802,-40.5183 884,-40.5183 884,-40.5183 890,-40.5183 896,-46.5183 896,-52.5183 896,-52.5183 896,-97.5183 896,-97.5183 896,-103.518 890,-109.518 884,-109.518 884,-109.518 802,-109.518 802,-109.518 796,-109.518 790,-103.518 790,-97.5183 790,-97.5183 790,-52.5183 790,-52.5183 790,-46.5183 796,-40.5183 802,-40.5183\"/>\r\n",
       "<text text-anchor=\"middle\" x=\"807.5\" y=\"-71.3183\" font-family=\"Times New Roman,serif\" font-size=\"14.00\">M2</text>\r\n",
       "<polyline fill=\"none\" stroke=\"black\" points=\"825,-40.5183 825,-109.518 \"/>\r\n",
       "<text text-anchor=\"middle\" x=\"837\" y=\"-94.3183\" font-family=\"Times New Roman,serif\" font-size=\"14.00\">a</text>\r\n",
       "<polyline fill=\"none\" stroke=\"black\" points=\"825,-86.5183 849,-86.5183 \"/>\r\n",
       "<text text-anchor=\"middle\" x=\"837\" y=\"-71.3183\" font-family=\"Times New Roman,serif\" font-size=\"14.00\">b</text>\r\n",
       "<polyline fill=\"none\" stroke=\"black\" points=\"825,-63.5183 849,-63.5183 \"/>\r\n",
       "<text text-anchor=\"middle\" x=\"837\" y=\"-48.3183\" font-family=\"Times New Roman,serif\" font-size=\"14.00\">c</text>\r\n",
       "<polyline fill=\"none\" stroke=\"black\" points=\"849,-40.5183 849,-109.518 \"/>\r\n",
       "<text text-anchor=\"middle\" x=\"872.5\" y=\"-94.3183\" font-family=\"Times New Roman,serif\" font-size=\"14.00\">0.007</text>\r\n",
       "<polyline fill=\"none\" stroke=\"black\" points=\"849,-86.5183 896,-86.5183 \"/>\r\n",
       "<text text-anchor=\"middle\" x=\"872.5\" y=\"-71.3183\" font-family=\"Times New Roman,serif\" font-size=\"14.00\">0.987</text>\r\n",
       "<polyline fill=\"none\" stroke=\"black\" points=\"849,-63.5183 896,-63.5183 \"/>\r\n",
       "<text text-anchor=\"middle\" x=\"872.5\" y=\"-48.3183\" font-family=\"Times New Roman,serif\" font-size=\"14.00\">0.007</text>\r\n",
       "</g>\r\n",
       "<!-- M1&#45;&gt;M2 -->\r\n",
       "<g id=\"edge9\" class=\"edge\"><title>M1&#45;&gt;M2</title>\r\n",
       "<path fill=\"none\" stroke=\"black\" d=\"M557.146,-242.402C611.98,-240.06 694.224,-234.54 723,-222.018 768.465,-202.235 801.699,-154.643 821.311,-118.933\"/>\r\n",
       "<polygon fill=\"black\" stroke=\"black\" points=\"824.632,-120.144 826.242,-109.672 818.453,-116.854 824.632,-120.144\"/>\r\n",
       "<text text-anchor=\"middle\" x=\"673.5\" y=\"-241.818\" font-family=\"Times New Roman,serif\" font-size=\"14.00\">0.863</text>\r\n",
       "</g>\r\n",
       "<!-- D2 -->\r\n",
       "<g id=\"node8\" class=\"node\"><title>D2</title>\r\n",
       "<ellipse fill=\"none\" stroke=\"black\" cx=\"843\" cy=\"-219.018\" rx=\"27\" ry=\"18\"/>\r\n",
       "<text text-anchor=\"middle\" x=\"843\" y=\"-215.318\" font-family=\"Times New Roman,serif\" font-size=\"14.00\">D2</text>\r\n",
       "</g>\r\n",
       "<!-- M1&#45;&gt;D2 -->\r\n",
       "<g id=\"edge10\" class=\"edge\"><title>M1&#45;&gt;D2</title>\r\n",
       "<path fill=\"none\" stroke=\"black\" d=\"M557.323,-256.256C601.702,-264.808 666.905,-273.057 723,-263.018 754.253,-257.425 788.038,-244.182 811.596,-233.676\"/>\r\n",
       "<polygon fill=\"black\" stroke=\"black\" points=\"813.071,-236.85 820.717,-229.516 810.166,-230.481 813.071,-236.85\"/>\r\n",
       "<text text-anchor=\"middle\" x=\"673.5\" y=\"-270.818\" font-family=\"Times New Roman,serif\" font-size=\"14.00\">0.064</text>\r\n",
       "</g>\r\n",
       "<!-- D1&#45;&gt;I1 -->\r\n",
       "<g id=\"edge11\" class=\"edge\"><title>D1&#45;&gt;I1</title>\r\n",
       "<path fill=\"none\" stroke=\"black\" d=\"M531.172,-89.0183C553.216,-89.0183 585.574,-89.0183 613.768,-89.0183\"/>\r\n",
       "<polygon fill=\"black\" stroke=\"black\" points=\"613.94,-92.5184 623.94,-89.0183 613.94,-85.5184 613.94,-92.5184\"/>\r\n",
       "<text text-anchor=\"middle\" x=\"590.5\" y=\"-92.8183\" font-family=\"Times New Roman,serif\" font-size=\"14.00\">0.08</text>\r\n",
       "</g>\r\n",
       "<!-- D1&#45;&gt;M2 -->\r\n",
       "<g id=\"edge12\" class=\"edge\"><title>D1&#45;&gt;M2</title>\r\n",
       "<path fill=\"none\" stroke=\"black\" d=\"M523.743,-76.2875C546.35,-61.7731 586.057,-38.908 624,-30.0183 666.84,-19.9812 679.717,-22.1078 723,-30.0183 742.066,-33.5028 762.043,-39.8857 780.067,-46.7706\"/>\r\n",
       "<polygon fill=\"black\" stroke=\"black\" points=\"779.274,-50.2202 789.86,-50.632 781.841,-43.708 779.274,-50.2202\"/>\r\n",
       "<text text-anchor=\"middle\" x=\"673.5\" y=\"-33.8183\" font-family=\"Times New Roman,serif\" font-size=\"14.00\">0.838</text>\r\n",
       "</g>\r\n",
       "<!-- D1&#45;&gt;D2 -->\r\n",
       "<g id=\"edge13\" class=\"edge\"><title>D1&#45;&gt;D2</title>\r\n",
       "<path fill=\"none\" stroke=\"black\" d=\"M513.171,-106.177C524.114,-127.11 545.611,-161.829 575,-179.018 594.586,-190.474 737.307,-207.485 805.676,-215.093\"/>\r\n",
       "<polygon fill=\"black\" stroke=\"black\" points=\"805.657,-218.612 815.98,-216.231 806.425,-211.655 805.657,-218.612\"/>\r\n",
       "<text text-anchor=\"middle\" x=\"673.5\" y=\"-208.818\" font-family=\"Times New Roman,serif\" font-size=\"14.00\">0.081</text>\r\n",
       "</g>\r\n",
       "<!-- I1&#45;&gt;I1 -->\r\n",
       "<g id=\"edge14\" class=\"edge\"><title>I1&#45;&gt;I1</title>\r\n",
       "<path fill=\"none\" stroke=\"black\" d=\"M658.159,-123.681C658.617,-133.994 663.73,-142.018 673.5,-142.018 679.759,-142.018 684.106,-138.725 686.544,-133.646\"/>\r\n",
       "<polygon fill=\"black\" stroke=\"black\" points=\"690.005,-134.211 688.841,-123.681 683.184,-132.639 690.005,-134.211\"/>\r\n",
       "<text text-anchor=\"middle\" x=\"673.5\" y=\"-145.818\" font-family=\"Times New Roman,serif\" font-size=\"14.00\">0.077</text>\r\n",
       "</g>\r\n",
       "<!-- I1&#45;&gt;M2 -->\r\n",
       "<g id=\"edge15\" class=\"edge\"><title>I1&#45;&gt;M2</title>\r\n",
       "<path fill=\"none\" stroke=\"black\" d=\"M723.398,-84.9312C740.997,-83.4603 761.094,-81.7805 779.681,-80.227\"/>\r\n",
       "<polygon fill=\"black\" stroke=\"black\" points=\"780.153,-83.6998 789.827,-79.379 779.57,-76.7242 780.153,-83.6998\"/>\r\n",
       "<text text-anchor=\"middle\" x=\"756.5\" y=\"-87.8183\" font-family=\"Times New Roman,serif\" font-size=\"14.00\">0.842</text>\r\n",
       "</g>\r\n",
       "<!-- I1&#45;&gt;D2 -->\r\n",
       "<g id=\"edge16\" class=\"edge\"><title>I1&#45;&gt;D2</title>\r\n",
       "<path fill=\"none\" stroke=\"black\" d=\"M719.387,-123.856C750.556,-148.046 790.952,-179.399 816.682,-199.368\"/>\r\n",
       "<polygon fill=\"black\" stroke=\"black\" points=\"814.765,-202.311 824.811,-205.677 819.057,-196.781 814.765,-202.311\"/>\r\n",
       "<text text-anchor=\"middle\" x=\"756.5\" y=\"-165.818\" font-family=\"Times New Roman,serif\" font-size=\"14.00\">0.081</text>\r\n",
       "</g>\r\n",
       "<!-- I2 -->\r\n",
       "<g id=\"node9\" class=\"node\"><title>I2</title>\r\n",
       "<path fill=\"none\" stroke=\"black\" d=\"M975,-32.5183C975,-32.5183 1050,-32.5183 1050,-32.5183 1056,-32.5183 1062,-38.5183 1062,-44.5183 1062,-44.5183 1062,-89.5183 1062,-89.5183 1062,-95.5183 1056,-101.518 1050,-101.518 1050,-101.518 975,-101.518 975,-101.518 969,-101.518 963,-95.5183 963,-89.5183 963,-89.5183 963,-44.5183 963,-44.5183 963,-38.5183 969,-32.5183 975,-32.5183\"/>\r\n",
       "<text text-anchor=\"middle\" x=\"977\" y=\"-63.3183\" font-family=\"Times New Roman,serif\" font-size=\"14.00\">I2</text>\r\n",
       "<polyline fill=\"none\" stroke=\"black\" points=\"991,-32.5183 991,-101.518 \"/>\r\n",
       "<text text-anchor=\"middle\" x=\"1003\" y=\"-86.3183\" font-family=\"Times New Roman,serif\" font-size=\"14.00\">a</text>\r\n",
       "<polyline fill=\"none\" stroke=\"black\" points=\"991,-78.5183 1015,-78.5183 \"/>\r\n",
       "<text text-anchor=\"middle\" x=\"1003\" y=\"-63.3183\" font-family=\"Times New Roman,serif\" font-size=\"14.00\">b</text>\r\n",
       "<polyline fill=\"none\" stroke=\"black\" points=\"991,-55.5183 1015,-55.5183 \"/>\r\n",
       "<text text-anchor=\"middle\" x=\"1003\" y=\"-40.3183\" font-family=\"Times New Roman,serif\" font-size=\"14.00\">c</text>\r\n",
       "<polyline fill=\"none\" stroke=\"black\" points=\"1015,-32.5183 1015,-101.518 \"/>\r\n",
       "<text text-anchor=\"middle\" x=\"1038.5\" y=\"-86.3183\" font-family=\"Times New Roman,serif\" font-size=\"14.00\">0.841</text>\r\n",
       "<polyline fill=\"none\" stroke=\"black\" points=\"1015,-78.5183 1062,-78.5183 \"/>\r\n",
       "<text text-anchor=\"middle\" x=\"1038.5\" y=\"-63.3183\" font-family=\"Times New Roman,serif\" font-size=\"14.00\">0.082</text>\r\n",
       "<polyline fill=\"none\" stroke=\"black\" points=\"1015,-55.5183 1062,-55.5183 \"/>\r\n",
       "<text text-anchor=\"middle\" x=\"1038.5\" y=\"-40.3183\" font-family=\"Times New Roman,serif\" font-size=\"14.00\">0.077</text>\r\n",
       "</g>\r\n",
       "<!-- M2&#45;&gt;I2 -->\r\n",
       "<g id=\"edge17\" class=\"edge\"><title>M2&#45;&gt;I2</title>\r\n",
       "<path fill=\"none\" stroke=\"black\" d=\"M896.08,-72.5309C914.068,-71.6717 934.343,-70.7034 952.823,-69.8207\"/>\r\n",
       "<polygon fill=\"black\" stroke=\"black\" points=\"953.058,-73.3136 962.88,-69.3404 952.724,-66.3216 953.058,-73.3136\"/>\r\n",
       "<text text-anchor=\"middle\" x=\"929.5\" y=\"-75.8183\" font-family=\"Times New Roman,serif\" font-size=\"14.00\">0.072</text>\r\n",
       "</g>\r\n",
       "<!-- M3 -->\r\n",
       "<g id=\"node10\" class=\"node\"><title>M3</title>\r\n",
       "<path fill=\"none\" stroke=\"black\" d=\"M1141,-136.518C1141,-136.518 1223,-136.518 1223,-136.518 1229,-136.518 1235,-142.518 1235,-148.518 1235,-148.518 1235,-193.518 1235,-193.518 1235,-199.518 1229,-205.518 1223,-205.518 1223,-205.518 1141,-205.518 1141,-205.518 1135,-205.518 1129,-199.518 1129,-193.518 1129,-193.518 1129,-148.518 1129,-148.518 1129,-142.518 1135,-136.518 1141,-136.518\"/>\r\n",
       "<text text-anchor=\"middle\" x=\"1146.5\" y=\"-167.318\" font-family=\"Times New Roman,serif\" font-size=\"14.00\">M3</text>\r\n",
       "<polyline fill=\"none\" stroke=\"black\" points=\"1164,-136.518 1164,-205.518 \"/>\r\n",
       "<text text-anchor=\"middle\" x=\"1176\" y=\"-190.318\" font-family=\"Times New Roman,serif\" font-size=\"14.00\">a</text>\r\n",
       "<polyline fill=\"none\" stroke=\"black\" points=\"1164,-182.518 1188,-182.518 \"/>\r\n",
       "<text text-anchor=\"middle\" x=\"1176\" y=\"-167.318\" font-family=\"Times New Roman,serif\" font-size=\"14.00\">b</text>\r\n",
       "<polyline fill=\"none\" stroke=\"black\" points=\"1164,-159.518 1188,-159.518 \"/>\r\n",
       "<text text-anchor=\"middle\" x=\"1176\" y=\"-144.318\" font-family=\"Times New Roman,serif\" font-size=\"14.00\">c</text>\r\n",
       "<polyline fill=\"none\" stroke=\"black\" points=\"1188,-136.518 1188,-205.518 \"/>\r\n",
       "<text text-anchor=\"middle\" x=\"1211.5\" y=\"-190.318\" font-family=\"Times New Roman,serif\" font-size=\"14.00\">0.006</text>\r\n",
       "<polyline fill=\"none\" stroke=\"black\" points=\"1188,-182.518 1235,-182.518 \"/>\r\n",
       "<text text-anchor=\"middle\" x=\"1211.5\" y=\"-167.318\" font-family=\"Times New Roman,serif\" font-size=\"14.00\">0.013</text>\r\n",
       "<polyline fill=\"none\" stroke=\"black\" points=\"1188,-159.518 1235,-159.518 \"/>\r\n",
       "<text text-anchor=\"middle\" x=\"1211.5\" y=\"-144.318\" font-family=\"Times New Roman,serif\" font-size=\"14.00\">0.981</text>\r\n",
       "</g>\r\n",
       "<!-- M2&#45;&gt;M3 -->\r\n",
       "<g id=\"edge18\" class=\"edge\"><title>M2&#45;&gt;M3</title>\r\n",
       "<path fill=\"none\" stroke=\"black\" d=\"M864.038,-109.749C876.111,-127.19 893.185,-146.75 914,-157.018 978.27,-188.723 1062.13,-187.279 1118.58,-181.137\"/>\r\n",
       "<polygon fill=\"black\" stroke=\"black\" points=\"1119.26,-184.581 1128.79,-179.942 1118.45,-177.628 1119.26,-184.581\"/>\r\n",
       "<text text-anchor=\"middle\" x=\"1012.5\" y=\"-188.818\" font-family=\"Times New Roman,serif\" font-size=\"14.00\">0.921</text>\r\n",
       "</g>\r\n",
       "<!-- D3 -->\r\n",
       "<g id=\"node11\" class=\"node\"><title>D3</title>\r\n",
       "<ellipse fill=\"none\" stroke=\"black\" cx=\"1182\" cy=\"-67.0183\" rx=\"27\" ry=\"18\"/>\r\n",
       "<text text-anchor=\"middle\" x=\"1182\" y=\"-63.3183\" font-family=\"Times New Roman,serif\" font-size=\"14.00\">D3</text>\r\n",
       "</g>\r\n",
       "<!-- M2&#45;&gt;D3 -->\r\n",
       "<g id=\"edge19\" class=\"edge\"><title>M2&#45;&gt;D3</title>\r\n",
       "<path fill=\"none\" stroke=\"black\" d=\"M892.209,-40.4192C912.95,-27.5709 938.116,-14.5418 963,-8.01826 1005.56,3.13989 1019.16,2.01876 1062,-8.01826 1095.5,-15.8663 1130.37,-34.606 1153.64,-48.8767\"/>\r\n",
       "<polygon fill=\"black\" stroke=\"black\" points=\"1151.93,-51.9363 1162.26,-54.2875 1155.65,-46.0072 1151.93,-51.9363\"/>\r\n",
       "<text text-anchor=\"middle\" x=\"1012.5\" y=\"-11.8183\" font-family=\"Times New Roman,serif\" font-size=\"14.00\">0.007</text>\r\n",
       "</g>\r\n",
       "<!-- D2&#45;&gt;I2 -->\r\n",
       "<g id=\"edge20\" class=\"edge\"><title>D2&#45;&gt;I2</title>\r\n",
       "<path fill=\"none\" stroke=\"black\" d=\"M859.758,-204.718C883.759,-182.938 930.405,-140.609 965.675,-108.602\"/>\r\n",
       "<polygon fill=\"black\" stroke=\"black\" points=\"968.415,-110.843 973.468,-101.531 963.71,-105.659 968.415,-110.843\"/>\r\n",
       "<text text-anchor=\"middle\" x=\"929.5\" y=\"-156.818\" font-family=\"Times New Roman,serif\" font-size=\"14.00\">0.074</text>\r\n",
       "</g>\r\n",
       "<!-- D2&#45;&gt;M3 -->\r\n",
       "<g id=\"edge21\" class=\"edge\"><title>D2&#45;&gt;M3</title>\r\n",
       "<path fill=\"none\" stroke=\"black\" d=\"M867.367,-226.828C907.774,-239.136 992.998,-259.808 1062,-241.018 1084.56,-234.874 1107.21,-223.247 1126.6,-211.208\"/>\r\n",
       "<polygon fill=\"black\" stroke=\"black\" points=\"1128.73,-214.002 1135.27,-205.666 1124.96,-208.104 1128.73,-214.002\"/>\r\n",
       "<text text-anchor=\"middle\" x=\"1012.5\" y=\"-251.818\" font-family=\"Times New Roman,serif\" font-size=\"14.00\">0.857</text>\r\n",
       "</g>\r\n",
       "<!-- D2&#45;&gt;D3 -->\r\n",
       "<g id=\"edge22\" class=\"edge\"><title>D2&#45;&gt;D3</title>\r\n",
       "<path fill=\"none\" stroke=\"black\" d=\"M870.368,-219.116C920.844,-218.916 1029.04,-216.507 1062,-200.018 1065.24,-198.395 1127.46,-127.928 1160.61,-90.2422\"/>\r\n",
       "<polygon fill=\"black\" stroke=\"black\" points=\"1163.62,-92.1195 1167.59,-82.298 1158.36,-87.4979 1163.62,-92.1195\"/>\r\n",
       "<text text-anchor=\"middle\" x=\"1012.5\" y=\"-219.818\" font-family=\"Times New Roman,serif\" font-size=\"14.00\">0.069</text>\r\n",
       "</g>\r\n",
       "<!-- I2&#45;&gt;I2 -->\r\n",
       "<g id=\"edge23\" class=\"edge\"><title>I2&#45;&gt;I2</title>\r\n",
       "<path fill=\"none\" stroke=\"black\" d=\"M997.159,-101.681C997.617,-111.994 1002.73,-120.018 1012.5,-120.018 1018.76,-120.018 1023.11,-116.725 1025.54,-111.646\"/>\r\n",
       "<polygon fill=\"black\" stroke=\"black\" points=\"1029.01,-112.211 1027.84,-101.681 1022.18,-110.639 1029.01,-112.211\"/>\r\n",
       "<text text-anchor=\"middle\" x=\"1012.5\" y=\"-123.818\" font-family=\"Times New Roman,serif\" font-size=\"14.00\">0.077</text>\r\n",
       "</g>\r\n",
       "<!-- I2&#45;&gt;M3 -->\r\n",
       "<g id=\"edge24\" class=\"edge\"><title>I2&#45;&gt;M3</title>\r\n",
       "<path fill=\"none\" stroke=\"black\" d=\"M1062.4,-97.3789C1080.49,-108.609 1101.21,-121.479 1120.23,-133.284\"/>\r\n",
       "<polygon fill=\"black\" stroke=\"black\" points=\"1118.49,-136.323 1128.83,-138.624 1122.18,-130.376 1118.49,-136.323\"/>\r\n",
       "<text text-anchor=\"middle\" x=\"1095.5\" y=\"-129.818\" font-family=\"Times New Roman,serif\" font-size=\"14.00\">0.846</text>\r\n",
       "</g>\r\n",
       "<!-- I2&#45;&gt;D3 -->\r\n",
       "<g id=\"edge25\" class=\"edge\"><title>I2&#45;&gt;D3</title>\r\n",
       "<path fill=\"none\" stroke=\"black\" d=\"M1062.4,-67.0183C1088.64,-67.0183 1120.44,-67.0183 1144.51,-67.0183\"/>\r\n",
       "<polygon fill=\"black\" stroke=\"black\" points=\"1144.64,-70.5184 1154.64,-67.0183 1144.64,-63.5184 1144.64,-70.5184\"/>\r\n",
       "<text text-anchor=\"middle\" x=\"1095.5\" y=\"-70.8183\" font-family=\"Times New Roman,serif\" font-size=\"14.00\">0.077</text>\r\n",
       "</g>\r\n",
       "<!-- I3 -->\r\n",
       "<g id=\"node12\" class=\"node\"><title>I3</title>\r\n",
       "<path fill=\"none\" stroke=\"black\" d=\"M1314,-48.5183C1314,-48.5183 1389,-48.5183 1389,-48.5183 1395,-48.5183 1401,-54.5183 1401,-60.5183 1401,-60.5183 1401,-105.518 1401,-105.518 1401,-111.518 1395,-117.518 1389,-117.518 1389,-117.518 1314,-117.518 1314,-117.518 1308,-117.518 1302,-111.518 1302,-105.518 1302,-105.518 1302,-60.5183 1302,-60.5183 1302,-54.5183 1308,-48.5183 1314,-48.5183\"/>\r\n",
       "<text text-anchor=\"middle\" x=\"1316\" y=\"-79.3183\" font-family=\"Times New Roman,serif\" font-size=\"14.00\">I3</text>\r\n",
       "<polyline fill=\"none\" stroke=\"black\" points=\"1330,-48.5183 1330,-117.518 \"/>\r\n",
       "<text text-anchor=\"middle\" x=\"1342\" y=\"-102.318\" font-family=\"Times New Roman,serif\" font-size=\"14.00\">a</text>\r\n",
       "<polyline fill=\"none\" stroke=\"black\" points=\"1330,-94.5183 1354,-94.5183 \"/>\r\n",
       "<text text-anchor=\"middle\" x=\"1342\" y=\"-79.3183\" font-family=\"Times New Roman,serif\" font-size=\"14.00\">b</text>\r\n",
       "<polyline fill=\"none\" stroke=\"black\" points=\"1330,-71.5183 1354,-71.5183 \"/>\r\n",
       "<text text-anchor=\"middle\" x=\"1342\" y=\"-56.3183\" font-family=\"Times New Roman,serif\" font-size=\"14.00\">c</text>\r\n",
       "<polyline fill=\"none\" stroke=\"black\" points=\"1354,-48.5183 1354,-117.518 \"/>\r\n",
       "<text text-anchor=\"middle\" x=\"1377.5\" y=\"-102.318\" font-family=\"Times New Roman,serif\" font-size=\"14.00\">0.84</text>\r\n",
       "<polyline fill=\"none\" stroke=\"black\" points=\"1354,-94.5183 1401,-94.5183 \"/>\r\n",
       "<text text-anchor=\"middle\" x=\"1377.5\" y=\"-79.3183\" font-family=\"Times New Roman,serif\" font-size=\"14.00\">0.081</text>\r\n",
       "<polyline fill=\"none\" stroke=\"black\" points=\"1354,-71.5183 1401,-71.5183 \"/>\r\n",
       "<text text-anchor=\"middle\" x=\"1377.5\" y=\"-56.3183\" font-family=\"Times New Roman,serif\" font-size=\"14.00\">0.079</text>\r\n",
       "</g>\r\n",
       "<!-- M3&#45;&gt;I3 -->\r\n",
       "<g id=\"edge26\" class=\"edge\"><title>M3&#45;&gt;I3</title>\r\n",
       "<path fill=\"none\" stroke=\"black\" d=\"M1235.08,-143.657C1253.4,-134.031 1274.09,-123.16 1292.85,-113.307\"/>\r\n",
       "<polygon fill=\"black\" stroke=\"black\" points=\"1294.66,-116.311 1301.88,-108.562 1291.4,-110.115 1294.66,-116.311\"/>\r\n",
       "<text text-anchor=\"middle\" x=\"1268.5\" y=\"-136.818\" font-family=\"Times New Roman,serif\" font-size=\"14.00\">0.067</text>\r\n",
       "</g>\r\n",
       "<!-- M4 -->\r\n",
       "<g id=\"node13\" class=\"node\"><title>M4</title>\r\n",
       "<path fill=\"none\" stroke=\"black\" d=\"M1480,-65.0183C1480,-65.0183 1562,-65.0183 1562,-65.0183 1568,-65.0183 1574,-71.0183 1574,-77.0183 1574,-77.0183 1574,-89.0183 1574,-89.0183 1574,-95.0183 1568,-101.018 1562,-101.018 1562,-101.018 1480,-101.018 1480,-101.018 1474,-101.018 1468,-95.0183 1468,-89.0183 1468,-89.0183 1468,-77.0183 1468,-77.0183 1468,-71.0183 1474,-65.0183 1480,-65.0183\"/>\r\n",
       "<text text-anchor=\"middle\" x=\"1485.5\" y=\"-79.3183\" font-family=\"Times New Roman,serif\" font-size=\"14.00\">M4</text>\r\n",
       "<polyline fill=\"none\" stroke=\"black\" points=\"1503,-65.0183 1503,-101.018 \"/>\r\n",
       "<text text-anchor=\"middle\" x=\"1521.5\" y=\"-79.3183\" font-family=\"Times New Roman,serif\" font-size=\"14.00\">end</text>\r\n",
       "<polyline fill=\"none\" stroke=\"black\" points=\"1540,-65.0183 1540,-101.018 \"/>\r\n",
       "<text text-anchor=\"middle\" x=\"1557\" y=\"-79.3183\" font-family=\"Times New Roman,serif\" font-size=\"14.00\">1.0</text>\r\n",
       "</g>\r\n",
       "<!-- M3&#45;&gt;M4 -->\r\n",
       "<g id=\"edge27\" class=\"edge\"><title>M3&#45;&gt;M4</title>\r\n",
       "<path fill=\"none\" stroke=\"black\" d=\"M1235.01,-175.835C1280.05,-178.274 1346.37,-177.661 1401,-160.018 1434.99,-149.04 1468.7,-125.752 1491.52,-107.645\"/>\r\n",
       "<polygon fill=\"black\" stroke=\"black\" points=\"1493.85,-110.259 1499.41,-101.241 1489.44,-104.824 1493.85,-110.259\"/>\r\n",
       "<text text-anchor=\"middle\" x=\"1351.5\" y=\"-180.818\" font-family=\"Times New Roman,serif\" font-size=\"14.00\">0.933</text>\r\n",
       "</g>\r\n",
       "<!-- D3&#45;&gt;I3 -->\r\n",
       "<g id=\"edge28\" class=\"edge\"><title>D3&#45;&gt;I3</title>\r\n",
       "<path fill=\"none\" stroke=\"black\" d=\"M1208.8,-69.4832C1230.79,-71.5833 1263.23,-74.6816 1291.52,-77.3841\"/>\r\n",
       "<polygon fill=\"black\" stroke=\"black\" points=\"1291.44,-80.8924 1301.73,-78.3592 1292.1,-73.9241 1291.44,-80.8924\"/>\r\n",
       "<text text-anchor=\"middle\" x=\"1268.5\" y=\"-80.8183\" font-family=\"Times New Roman,serif\" font-size=\"14.00\">0.099</text>\r\n",
       "</g>\r\n",
       "<!-- D3&#45;&gt;M4 -->\r\n",
       "<g id=\"edge29\" class=\"edge\"><title>D3&#45;&gt;M4</title>\r\n",
       "<path fill=\"none\" stroke=\"black\" d=\"M1204.31,-56.7573C1227.66,-46.1323 1266.51,-30.233 1302,-24.0183 1345.34,-16.428 1358.16,-13.9812 1401,-24.0183 1430.53,-30.9375 1461.13,-46.3231 1483.91,-59.6478\"/>\r\n",
       "<polygon fill=\"black\" stroke=\"black\" points=\"1482.17,-62.6841 1492.54,-64.8206 1485.76,-56.6791 1482.17,-62.6841\"/>\r\n",
       "<text text-anchor=\"middle\" x=\"1351.5\" y=\"-27.8183\" font-family=\"Times New Roman,serif\" font-size=\"14.00\">0.901</text>\r\n",
       "</g>\r\n",
       "<!-- I3&#45;&gt;I3 -->\r\n",
       "<g id=\"edge30\" class=\"edge\"><title>I3&#45;&gt;I3</title>\r\n",
       "<path fill=\"none\" stroke=\"black\" d=\"M1336.16,-117.681C1336.62,-127.994 1341.73,-136.018 1351.5,-136.018 1357.76,-136.018 1362.11,-132.725 1364.54,-127.646\"/>\r\n",
       "<polygon fill=\"black\" stroke=\"black\" points=\"1368.01,-128.211 1366.84,-117.681 1361.18,-126.639 1368.01,-128.211\"/>\r\n",
       "<text text-anchor=\"middle\" x=\"1351.5\" y=\"-139.818\" font-family=\"Times New Roman,serif\" font-size=\"14.00\">0.083</text>\r\n",
       "</g>\r\n",
       "<!-- I3&#45;&gt;M4 -->\r\n",
       "<g id=\"edge31\" class=\"edge\"><title>I3&#45;&gt;M4</title>\r\n",
       "<path fill=\"none\" stroke=\"black\" d=\"M1401.4,-83.0183C1419,-83.0183 1439.09,-83.0183 1457.68,-83.0183\"/>\r\n",
       "<polygon fill=\"black\" stroke=\"black\" points=\"1457.83,-86.5184 1467.83,-83.0183 1457.83,-79.5184 1457.83,-86.5184\"/>\r\n",
       "<text text-anchor=\"middle\" x=\"1434.5\" y=\"-86.8183\" font-family=\"Times New Roman,serif\" font-size=\"14.00\">0.917</text>\r\n",
       "</g>\r\n",
       "</g>\r\n",
       "</svg>\r\n"
      ],
      "text/plain": [
       "<graphviz.dot.Digraph at 0x2288cb0ae80>"
      ]
     },
     "metadata": {},
     "output_type": "display_data"
    }
   ],
   "source": [
    "for i in range(0,10):\n",
    "    palpha(corpus,priors,states,symbols)\n",
    "    pbeta(corpus,priors,states,symbols)\n",
    "    newemis=pnewemis(corpus,priors,states,symbols)\n",
    "    newtran=pnewtran(corpus,priors,states,symbols)\n",
    "    priors=(priors[0],newtran,newemis)\n",
    "    display(ploglike(corpus,priors,states,symbols))\n",
    "pHMMviz(priors,states)"
   ]
  },
  {
   "cell_type": "code",
   "execution_count": 422,
   "metadata": {
    "ExecuteTime": {
     "end_time": "2017-10-24T21:15:05.848197Z",
     "start_time": "2017-10-24T21:15:05.320770Z"
    },
    "code_folding": [],
    "scrolled": false
   },
   "outputs": [
    {
     "data": {
      "text/plain": [
       "('a', 'b', 'c')"
      ]
     },
     "metadata": {},
     "output_type": "display_data"
    },
    {
     "data": {
      "text/plain": [
       "['M0', 'M1', 'M2', 'M3', 'M4']"
      ]
     },
     "metadata": {},
     "output_type": "display_data"
    },
    {
     "data": {
      "text/plain": [
       "'--------'"
      ]
     },
     "metadata": {},
     "output_type": "display_data"
    },
    {
     "data": {
      "text/plain": [
       "('a', 'b')"
      ]
     },
     "metadata": {},
     "output_type": "display_data"
    },
    {
     "data": {
      "text/plain": [
       "['M0', 'M1', 'M2', 'D3', 'M4']"
      ]
     },
     "metadata": {},
     "output_type": "display_data"
    },
    {
     "data": {
      "text/plain": [
       "'--------'"
      ]
     },
     "metadata": {},
     "output_type": "display_data"
    },
    {
     "data": {
      "text/plain": [
       "('b', 'c')"
      ]
     },
     "metadata": {},
     "output_type": "display_data"
    },
    {
     "data": {
      "text/plain": [
       "['M0', 'D1', 'M2', 'M3', 'M4']"
      ]
     },
     "metadata": {},
     "output_type": "display_data"
    },
    {
     "data": {
      "text/plain": [
       "'--------'"
      ]
     },
     "metadata": {},
     "output_type": "display_data"
    },
    {
     "data": {
      "text/plain": [
       "('a', 'c')"
      ]
     },
     "metadata": {},
     "output_type": "display_data"
    },
    {
     "data": {
      "text/plain": [
       "['M0', 'M1', 'D2', 'M3', 'M4']"
      ]
     },
     "metadata": {},
     "output_type": "display_data"
    },
    {
     "data": {
      "text/plain": [
       "'--------'"
      ]
     },
     "metadata": {},
     "output_type": "display_data"
    },
    {
     "data": {
      "text/plain": [
       "('c', 'a', 'b', 'c')"
      ]
     },
     "metadata": {},
     "output_type": "display_data"
    },
    {
     "data": {
      "text/plain": [
       "['M0', 'I0', 'M1', 'M2', 'M3', 'M4']"
      ]
     },
     "metadata": {},
     "output_type": "display_data"
    },
    {
     "data": {
      "text/plain": [
       "'--------'"
      ]
     },
     "metadata": {},
     "output_type": "display_data"
    },
    {
     "data": {
      "text/plain": [
       "('a', 'c', 'b', 'c')"
      ]
     },
     "metadata": {},
     "output_type": "display_data"
    },
    {
     "data": {
      "text/plain": [
       "['M0', 'M1', 'I1', 'M2', 'M3', 'M4']"
      ]
     },
     "metadata": {},
     "output_type": "display_data"
    },
    {
     "data": {
      "text/plain": [
       "'--------'"
      ]
     },
     "metadata": {},
     "output_type": "display_data"
    },
    {
     "data": {
      "text/plain": [
       "('a', 'b', 'a', 'c')"
      ]
     },
     "metadata": {},
     "output_type": "display_data"
    },
    {
     "data": {
      "text/plain": [
       "['M0', 'M1', 'M2', 'I2', 'M3', 'M4']"
      ]
     },
     "metadata": {},
     "output_type": "display_data"
    },
    {
     "data": {
      "text/plain": [
       "'--------'"
      ]
     },
     "metadata": {},
     "output_type": "display_data"
    },
    {
     "data": {
      "text/plain": [
       "('a', 'b', 'c', 'a')"
      ]
     },
     "metadata": {},
     "output_type": "display_data"
    },
    {
     "data": {
      "text/plain": [
       "['M0', 'M1', 'M2', 'M3', 'I3', 'M4']"
      ]
     },
     "metadata": {},
     "output_type": "display_data"
    },
    {
     "data": {
      "text/plain": [
       "'--------'"
      ]
     },
     "metadata": {},
     "output_type": "display_data"
    }
   ],
   "source": [
    "for seq in corpus:    \n",
    "    display(seq)\n",
    "    viterbi(seq,priors,states,symbols)\n",
    "    display('--------')\n",
    "\n",
    "#curseq=('b')\n",
    "#viterbi(curseq,priors,states,symbols,show=True)\n"
   ]
  },
  {
   "cell_type": "code",
   "execution_count": null,
   "metadata": {
    "collapsed": true
   },
   "outputs": [],
   "source": []
  },
  {
   "cell_type": "code",
   "execution_count": null,
   "metadata": {
    "collapsed": true
   },
   "outputs": [],
   "source": []
  }
 ],
 "metadata": {
  "kernelspec": {
   "display_name": "Python 3",
   "language": "python",
   "name": "python3"
  },
  "language_info": {
   "codemirror_mode": {
    "name": "ipython",
    "version": 3
   },
   "file_extension": ".py",
   "mimetype": "text/x-python",
   "name": "python",
   "nbconvert_exporter": "python",
   "pygments_lexer": "ipython3",
   "version": "3.6.2"
  }
 },
 "nbformat": 4,
 "nbformat_minor": 2
}
