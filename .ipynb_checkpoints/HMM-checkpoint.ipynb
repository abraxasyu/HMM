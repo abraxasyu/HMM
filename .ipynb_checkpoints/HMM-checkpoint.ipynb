{
 "cells": [
  {
   "cell_type": "code",
   "execution_count": 676,
   "metadata": {
    "collapsed": true
   },
   "outputs": [],
   "source": [
    "#modeling simple hmm"
   ]
  },
  {
   "cell_type": "code",
   "execution_count": 1035,
   "metadata": {
    "collapsed": true
   },
   "outputs": [],
   "source": [
    "import numpy as np\n",
    "import pandas as pd"
   ]
  },
  {
   "cell_type": "code",
   "execution_count": 1036,
   "metadata": {},
   "outputs": [],
   "source": [
    "def normalizeoveri(dfin):\n",
    "    for col in dfin.columns:\n",
    "        tot=sum(dfin.loc[:,col])\n",
    "        for row in dfin.index:\n",
    "            dfin.loc[row,col]=dfin.loc[row,col]/tot\n",
    "    return dfin"
   ]
  },
  {
   "cell_type": "code",
   "execution_count": 1037,
   "metadata": {},
   "outputs": [],
   "source": [
    "#Alpha (Forward)\n",
    "def alpha(curseq,states,init,tran,emis):\n",
    "    seqiter=range(0,len(curseq))\n",
    "    forward=pd.DataFrame(0,index=states,columns=seqiter)\n",
    "    for i in seqiter:\n",
    "        for state in states:\n",
    "            if i==0:\n",
    "                forward.loc[state,i]=init[state]*emis.loc[state,curseq[i]]\n",
    "            else:\n",
    "                for prevstate in states:\n",
    "                    forward.loc[state,i]+=forward.loc[prevstate,i-1]*tran.loc[prevstate,state]*emis.loc[state,curseq[i]]\n",
    "    #display(forward)\n",
    "    return forward\n",
    "\n",
    "#for seqtype in corpus:\n",
    "#    corpus[seqtype]['alpha']=alpha(seqtype,states,init,tran,emis)\n",
    "#    corpus[seqtype]['prob']=0\n",
    "#    for state in states:\n",
    "#        corpus[seqtype]['prob']+=corpus[seqtype]['alpha'].loc[state,corpus[seqtype]['alpha'].shape[1]-1]\n",
    "#\n",
    "#corpus"
   ]
  },
  {
   "cell_type": "code",
   "execution_count": 1038,
   "metadata": {},
   "outputs": [],
   "source": [
    "#Beta (Backward)\n",
    "def beta(curseq,states,init,trans,emis):\n",
    "    seqiter=range(len(curseq)-1,-1,-1)\n",
    "    backward=pd.DataFrame(0,index=states,columns=seqiter)\n",
    "    for i in seqiter:\n",
    "        for state in states:\n",
    "            if i==len(curseq)-1:\n",
    "                backward.loc[state,i]=1\n",
    "            else:\n",
    "                for nextstate in states:\n",
    "                    backward.loc[state,i]+=backward.loc[nextstate,i+1]*tran.loc[state,nextstate]*emis.loc[nextstate,curseq[i+1]]\n",
    "    #display(backward)\n",
    "    return backward\n",
    "    \n",
    "#for seqtype in corpus:\n",
    "#    corpus[seqtype]['beta']=beta(seqtype,states,init,tran,emis)"
   ]
  },
  {
   "cell_type": "code",
   "execution_count": 1039,
   "metadata": {
    "scrolled": true
   },
   "outputs": [],
   "source": [
    "#Gamma (Transition)\n",
    "def gamma(curseq,states,init,tran,emis,alpha,beta,totprob):\n",
    "    seqiter=range(len(curseq)-1)\n",
    "    path=pd.DataFrame(0,columns=pd.MultiIndex.from_product([states,states]),index=seqiter) #[state1,state2,time]\n",
    "    for i in seqiter:\n",
    "        for state1 in states:\n",
    "            for state2 in states:\n",
    "                path.loc[i,(state1,state2)]=alpha.loc[state1,i]*tran.loc[state1,state2]*emis.loc[state2,curseq[i+1]]*beta.loc[state2,i+1]/totprob\n",
    "    #display(path)\n",
    "    return(path)\n",
    "    \n",
    "#for seqtype in corpus:\n",
    "#    corpus[seqtype]['gamma']=gamma(seqtype,states,init,tran,emis,corpus[seqtype]['alpha'],corpus[seqtype]['beta'],corpus[seqtype]['prob'])   "
   ]
  },
  {
   "cell_type": "code",
   "execution_count": 1040,
   "metadata": {},
   "outputs": [],
   "source": [
    "#Delta (State)\n",
    "def delta(curseq,states,alpha,gamma,totprob):\n",
    "    seqiter=range(len(curseq))\n",
    "    single=pd.DataFrame(0,index=states,columns=seqiter)\n",
    "    for i in seqiter:\n",
    "        for state in states:\n",
    "            if i==len(curseq)-1:\n",
    "                single.loc[state,i]=alpha.loc[state,i]/totprob\n",
    "            else:\n",
    "                for nextstate in states:\n",
    "                    single.loc[state,i]+=gamma.loc[i,(state,nextstate)]\n",
    "    #display(single)\n",
    "    return single\n",
    "    \n",
    "#for seqtype in corpus:\n",
    "#    corpus[seqtype]['delta']=delta(seqtype,states,corpus[seqtype]['alpha'],corpus[seqtype]['gamma'],corpus[seqtype]['prob'])"
   ]
  },
  {
   "cell_type": "code",
   "execution_count": 1014,
   "metadata": {},
   "outputs": [],
   "source": [
    "#Baum-Welch iteration"
   ]
  },
  {
   "cell_type": "code",
   "execution_count": 1041,
   "metadata": {},
   "outputs": [],
   "source": [
    "#get new init\n",
    "def getnewinit(corpus,states):\n",
    "    rawnewinit={}\n",
    "    for state in states:\n",
    "        rawnewinit[state]=0\n",
    "        for seqtype in corpus:\n",
    "            rawnewinit[state]+=corpus[seqtype]['delta'].loc[state,0]*corpus[seqtype]['num']\n",
    "    newinit={}\n",
    "    newtotal=0\n",
    "    for state in states:\n",
    "        newtotal+=rawnewinit[state]\n",
    "    for state in states:\n",
    "        newinit[state]=rawnewinit[state]/newtotal\n",
    "    return newinit\n",
    "\n",
    "#getnewinit(corpus,states)"
   ]
  },
  {
   "cell_type": "code",
   "execution_count": 1042,
   "metadata": {},
   "outputs": [],
   "source": [
    "#get new tran\n",
    "def getnewtran(corpus,states):\n",
    "    newtran=pd.DataFrame(0,columns=states,index=states)\n",
    "    for state in states:\n",
    "        rawtran={}\n",
    "        for nextstate in states:\n",
    "            rawtran[nextstate]=0\n",
    "            for seqtype in corpus:\n",
    "                seqiter=range(0,len(seqtype)-1)\n",
    "                for i in seqiter:\n",
    "                    rawtran[nextstate]+=corpus[seqtype]['gamma'].loc[i,(state,nextstate)]*corpus[seqtype]['prob']\n",
    "        totrawtran=0\n",
    "        for tempstate in rawtran:\n",
    "            totrawtran+=rawtran[tempstate]\n",
    "        for tempstate in rawtran:\n",
    "            newtran.loc[state,tempstate]=rawtran[tempstate]/totrawtran\n",
    "    return newtran\n",
    "\n",
    "#getnewtran(corpus,states)"
   ]
  },
  {
   "cell_type": "code",
   "execution_count": 1043,
   "metadata": {},
   "outputs": [],
   "source": [
    "#get new emis\n",
    "def getnewemis(corpus,states,symbols):\n",
    "    newemis=pd.DataFrame(0,columns=symbols,index=states)\n",
    "    for state in states:\n",
    "        rawemis={}\n",
    "        for symbol in symbols:\n",
    "            rawemis[symbol]=0\n",
    "        for seqtype in corpus:\n",
    "            seqiter=range(0,len(seqtype))\n",
    "            for i in seqiter:\n",
    "                rawemis[seqtype[i]]+=corpus[seqtype]['delta'].loc[state,i]*corpus[seqtype]['prob']\n",
    "        totrawemis=0\n",
    "        for tempsymbol in rawemis:\n",
    "            totrawemis+=rawemis[tempsymbol]\n",
    "        for tempsymbol in rawemis:\n",
    "            newemis.loc[state,tempsymbol]=rawemis[tempsymbol]/totrawemis\n",
    "    return newemis\n",
    "\n",
    "#getnewemis(corpus,states,symbols)"
   ]
  },
  {
   "cell_type": "code",
   "execution_count": 1082,
   "metadata": {},
   "outputs": [],
   "source": [
    "def loglikelihood(corpus):\n",
    "    #run alpha to get new prob\n",
    "    for seqtype in corpus:\n",
    "        corpus[seqtype]['tempalpha']=alpha(seqtype,states,init,tran,emis)\n",
    "        corpus[seqtype]['prob']=0\n",
    "        for state in states:\n",
    "            corpus[seqtype]['prob']+=corpus[seqtype]['tempalpha'].loc[state,corpus[seqtype]['tempalpha'].shape[1]-1]\n",
    "    tot=0\n",
    "    for seqtype in corpus:\n",
    "        tot+=corpus[seqtype]['num']*np.log(corpus[seqtype]['prob'])\n",
    "    return tot\n",
    "#loglikelihood(corpus)"
   ]
  },
  {
   "cell_type": "code",
   "execution_count": 1083,
   "metadata": {},
   "outputs": [],
   "source": [
    "def baumwelch_iter(corpus,states,symbols,init,tran,emis,accuracy):\n",
    "    #alpha with terminating accuracy\n",
    "    diffsum=0\n",
    "    for seqtype in corpus:\n",
    "        newalpha=alpha(seqtype,states,init,tran,emis)\n",
    "        if 'alpha' in corpus[seqtype]:\n",
    "            dfifsum+=sum(abs(newalpha-corpus[seqtype]['alpha']))\n",
    "        corpus[seqtype]['alpha']=newalpha\n",
    "        corpus[seqtype]['prob']=0\n",
    "        for state in states:\n",
    "            corpus[seqtype]['prob']+=corpus[seqtype]['alpha'].loc[state,corpus[seqtype]['alpha'].shape[1]-1]\n",
    "        corpus[seqtype]['alpha']=normalizeoveri(corpus[seqtype]['alpha'])\n",
    "    if diffsum<accuracy:\n",
    "        return False\n",
    "    #beta\n",
    "    for seqtype in corpus:\n",
    "        corpus[seqtype]['beta']=normalizeoveri(beta(seqtype,states,init,tran,emis))\n",
    "    #gamma\n",
    "    for seqtype in corpus:\n",
    "        corpus[seqtype]['gamma']=gamma(seqtype,states,init,tran,emis,corpus[seqtype]['alpha'],corpus[seqtype]['beta'],corpus[seqtype]['prob'])\n",
    "    #delta\n",
    "    for seqtype in corpus:\n",
    "        corpus[seqtype]['delta']=delta(seqtype,states,corpus[seqtype]['alpha'],corpus[seqtype]['gamma'],corpus[seqtype]['prob'])\n",
    "    newinit=getnewinit(corpus,states)\n",
    "    newtran=getnewtran(corpus,states)\n",
    "    newemis=getnewemis(corpus,states,symbols)\n",
    "    #print(loglikelihood(corpus))\n",
    "    #display(newinit)\n",
    "    #display(newtran)\n",
    "    #display(newemis)\n",
    "    return (newinit,newtran,newemis)"
   ]
  },
  {
   "cell_type": "code",
   "execution_count": 1160,
   "metadata": {},
   "outputs": [
    {
     "data": {
      "text/plain": [
       "{('A', 'B', 'B', 'A'): {'num': 20}, ('B', 'A', 'B'): {'num': 10}}"
      ]
     },
     "metadata": {},
     "output_type": "display_data"
    },
    {
     "data": {
      "text/plain": [
       "{'s': 0.5, 't': 0.5}"
      ]
     },
     "metadata": {},
     "output_type": "display_data"
    },
    {
     "data": {
      "text/html": [
       "<div>\n",
       "<style>\n",
       "    .dataframe thead tr:only-child th {\n",
       "        text-align: right;\n",
       "    }\n",
       "\n",
       "    .dataframe thead th {\n",
       "        text-align: left;\n",
       "    }\n",
       "\n",
       "    .dataframe tbody tr th {\n",
       "        vertical-align: top;\n",
       "    }\n",
       "</style>\n",
       "<table border=\"1\" class=\"dataframe\">\n",
       "  <thead>\n",
       "    <tr style=\"text-align: right;\">\n",
       "      <th></th>\n",
       "      <th>s</th>\n",
       "      <th>t</th>\n",
       "    </tr>\n",
       "  </thead>\n",
       "  <tbody>\n",
       "    <tr>\n",
       "      <th>s</th>\n",
       "      <td>0.5</td>\n",
       "      <td>0.5</td>\n",
       "    </tr>\n",
       "    <tr>\n",
       "      <th>t</th>\n",
       "      <td>0.5</td>\n",
       "      <td>0.5</td>\n",
       "    </tr>\n",
       "  </tbody>\n",
       "</table>\n",
       "</div>"
      ],
      "text/plain": [
       "     s    t\n",
       "s  0.5  0.5\n",
       "t  0.5  0.5"
      ]
     },
     "metadata": {},
     "output_type": "display_data"
    },
    {
     "data": {
      "text/html": [
       "<div>\n",
       "<style>\n",
       "    .dataframe thead tr:only-child th {\n",
       "        text-align: right;\n",
       "    }\n",
       "\n",
       "    .dataframe thead th {\n",
       "        text-align: left;\n",
       "    }\n",
       "\n",
       "    .dataframe tbody tr th {\n",
       "        vertical-align: top;\n",
       "    }\n",
       "</style>\n",
       "<table border=\"1\" class=\"dataframe\">\n",
       "  <thead>\n",
       "    <tr style=\"text-align: right;\">\n",
       "      <th></th>\n",
       "      <th>A</th>\n",
       "      <th>B</th>\n",
       "    </tr>\n",
       "  </thead>\n",
       "  <tbody>\n",
       "    <tr>\n",
       "      <th>s</th>\n",
       "      <td>0.3</td>\n",
       "      <td>0.7</td>\n",
       "    </tr>\n",
       "    <tr>\n",
       "      <th>t</th>\n",
       "      <td>0.7</td>\n",
       "      <td>0.3</td>\n",
       "    </tr>\n",
       "  </tbody>\n",
       "</table>\n",
       "</div>"
      ],
      "text/plain": [
       "     A    B\n",
       "s  0.3  0.7\n",
       "t  0.7  0.3"
      ]
     },
     "metadata": {},
     "output_type": "display_data"
    }
   ],
   "source": [
    "#Data\n",
    "sequence1=tuple(['B','A','B'])\n",
    "sequence2=tuple(['A','B','B','A'])\n",
    "corpus={}\n",
    "corpus[sequence1]={'num':10}\n",
    "corpus[sequence2]={'num':20}\n",
    "states=['s','t']\n",
    "symbols=[]\n",
    "for seqtype in corpus:\n",
    "    symbols+=seqtype\n",
    "symbols=set(symbols)\n",
    "display(corpus)\n",
    "#Initial probabilities\n",
    "init={'s':0.5,'t':0.5}\n",
    "display(init)\n",
    "#Transition Matrix\n",
    "tran=pd.DataFrame([[0.5,0.5],[0.5,0.5]],columns=states,index=states)\n",
    "display(tran)\n",
    "#Emission Matrix\n",
    "emis=pd.DataFrame([[0.3,0.7],[0.7,0.3]],columns=['A','B'],index=states)\n",
    "display(emis)"
   ]
  },
  {
   "cell_type": "code",
   "execution_count": 1161,
   "metadata": {
    "scrolled": true
   },
   "outputs": [
    {
     "name": "stdout",
     "output_type": "stream",
     "text": [
      "-73.7104429829\n",
      "-72.2896108012\n",
      "-71.4229657808\n",
      "-70.8192980654\n",
      "-70.211885682\n",
      "-69.346963223\n",
      "-67.9059328088\n",
      "-65.5832133524\n",
      "-62.4316846194\n",
      "-59.1453685209\n",
      "-56.423383266\n",
      "-54.5688949293\n",
      "-53.8018567743\n",
      "-54.1360219821\n",
      "-55.4449956128\n",
      "-57.638292855\n",
      "-60.7003451581\n",
      "-64.6308034944\n",
      "-69.4017718137\n",
      "-74.9362266128\n",
      "-81.1254231127\n",
      "-87.8413782962\n",
      "-94.9641393489\n",
      "-102.385649134\n",
      "-110.023284962\n",
      "-117.810589437\n",
      "-125.703114256\n",
      "-133.665555029\n",
      "-141.6772698\n",
      "-149.720276709\n",
      "-157.786209279\n",
      "-165.86558628\n",
      "-173.955868829\n",
      "-182.051523733\n",
      "-190.152679173\n",
      "-198.255591304\n",
      "-206.36158921\n",
      "-214.467731257\n",
      "-222.575883365\n",
      "-230.683461818\n",
      "-238.792571743\n",
      "-246.900788774\n",
      "-255.010324473\n",
      "-263.118825351\n",
      "-271.228550299\n",
      "-279.337177338\n",
      "-287.446986399\n",
      "-295.555669511\n",
      "-303.665515957\n",
      "-311.77422399\n"
     ]
    }
   ],
   "source": [
    "accuracy=0.01\n",
    "oldlike=-999\n",
    "for i in range(0,50):\n",
    "    (init,tran,emis)=baumwelch_iter(corpus,states,symbols,init,tran,emis,accuracy)\n",
    "    newlike=loglikelihood(corpus)\n",
    "    print(newlike)\n",
    "    #if (newlike<oldlike) or ((newlike-oldlike)<accuracy):\n",
    "    #    break\n",
    "    oldlike=newlike\n",
    "#display(init)\n",
    "#display(tran)\n",
    "#display(emis)"
   ]
  },
  {
   "cell_type": "code",
   "execution_count": 1152,
   "metadata": {},
   "outputs": [
    {
     "data": {
      "text/plain": [
       "{'s': 0.41418485308098391, 't': 0.58581514691901604}"
      ]
     },
     "metadata": {},
     "output_type": "display_data"
    },
    {
     "data": {
      "text/html": [
       "<div>\n",
       "<style>\n",
       "    .dataframe thead tr:only-child th {\n",
       "        text-align: right;\n",
       "    }\n",
       "\n",
       "    .dataframe thead th {\n",
       "        text-align: left;\n",
       "    }\n",
       "\n",
       "    .dataframe tbody tr th {\n",
       "        vertical-align: top;\n",
       "    }\n",
       "</style>\n",
       "<table border=\"1\" class=\"dataframe\">\n",
       "  <thead>\n",
       "    <tr style=\"text-align: right;\">\n",
       "      <th></th>\n",
       "      <th>s</th>\n",
       "      <th>t</th>\n",
       "    </tr>\n",
       "  </thead>\n",
       "  <tbody>\n",
       "    <tr>\n",
       "      <th>s</th>\n",
       "      <td>7.062996e-16</td>\n",
       "      <td>1.0</td>\n",
       "    </tr>\n",
       "    <tr>\n",
       "      <th>t</th>\n",
       "      <td>1.000000e+00</td>\n",
       "      <td>0.0</td>\n",
       "    </tr>\n",
       "  </tbody>\n",
       "</table>\n",
       "</div>"
      ],
      "text/plain": [
       "              s    t\n",
       "s  7.062996e-16  1.0\n",
       "t  1.000000e+00  0.0"
      ]
     },
     "metadata": {},
     "output_type": "display_data"
    },
    {
     "data": {
      "text/html": [
       "<div>\n",
       "<style>\n",
       "    .dataframe thead tr:only-child th {\n",
       "        text-align: right;\n",
       "    }\n",
       "\n",
       "    .dataframe thead th {\n",
       "        text-align: left;\n",
       "    }\n",
       "\n",
       "    .dataframe tbody tr th {\n",
       "        vertical-align: top;\n",
       "    }\n",
       "</style>\n",
       "<table border=\"1\" class=\"dataframe\">\n",
       "  <thead>\n",
       "    <tr style=\"text-align: right;\">\n",
       "      <th></th>\n",
       "      <th>B</th>\n",
       "      <th>A</th>\n",
       "    </tr>\n",
       "  </thead>\n",
       "  <tbody>\n",
       "    <tr>\n",
       "      <th>s</th>\n",
       "      <td>1.0</td>\n",
       "      <td>0.0</td>\n",
       "    </tr>\n",
       "    <tr>\n",
       "      <th>t</th>\n",
       "      <td>0.0</td>\n",
       "      <td>1.0</td>\n",
       "    </tr>\n",
       "  </tbody>\n",
       "</table>\n",
       "</div>"
      ],
      "text/plain": [
       "     B    A\n",
       "s  1.0  0.0\n",
       "t  0.0  1.0"
      ]
     },
     "metadata": {},
     "output_type": "display_data"
    }
   ],
   "source": [
    "display(init)\n",
    "display(tran)\n",
    "display(emis)"
   ]
  },
  {
   "cell_type": "code",
   "execution_count": 1153,
   "metadata": {
    "scrolled": false
   },
   "outputs": [
    {
     "data": {
      "text/plain": [
       "('B', 'A', 'B')"
      ]
     },
     "metadata": {},
     "output_type": "display_data"
    },
    {
     "data": {
      "text/html": [
       "<div>\n",
       "<style>\n",
       "    .dataframe thead tr:only-child th {\n",
       "        text-align: right;\n",
       "    }\n",
       "\n",
       "    .dataframe thead th {\n",
       "        text-align: left;\n",
       "    }\n",
       "\n",
       "    .dataframe tbody tr th {\n",
       "        vertical-align: top;\n",
       "    }\n",
       "</style>\n",
       "<table border=\"1\" class=\"dataframe\">\n",
       "  <thead>\n",
       "    <tr style=\"text-align: right;\">\n",
       "      <th></th>\n",
       "      <th>0</th>\n",
       "      <th>1</th>\n",
       "      <th>2</th>\n",
       "    </tr>\n",
       "  </thead>\n",
       "  <tbody>\n",
       "    <tr>\n",
       "      <th>s</th>\n",
       "      <td>1.0</td>\n",
       "      <td>0.0</td>\n",
       "      <td>1.0</td>\n",
       "    </tr>\n",
       "    <tr>\n",
       "      <th>t</th>\n",
       "      <td>0.0</td>\n",
       "      <td>1.0</td>\n",
       "      <td>0.0</td>\n",
       "    </tr>\n",
       "  </tbody>\n",
       "</table>\n",
       "</div>"
      ],
      "text/plain": [
       "     0    1    2\n",
       "s  1.0  0.0  1.0\n",
       "t  0.0  1.0  0.0"
      ]
     },
     "metadata": {},
     "output_type": "display_data"
    },
    {
     "data": {
      "text/html": [
       "<div>\n",
       "<style>\n",
       "    .dataframe thead tr:only-child th {\n",
       "        text-align: right;\n",
       "    }\n",
       "\n",
       "    .dataframe thead th {\n",
       "        text-align: left;\n",
       "    }\n",
       "\n",
       "    .dataframe tbody tr th {\n",
       "        vertical-align: top;\n",
       "    }\n",
       "</style>\n",
       "<table border=\"1\" class=\"dataframe\">\n",
       "  <thead>\n",
       "    <tr style=\"text-align: right;\">\n",
       "      <th></th>\n",
       "      <th>2</th>\n",
       "      <th>1</th>\n",
       "      <th>0</th>\n",
       "    </tr>\n",
       "  </thead>\n",
       "  <tbody>\n",
       "    <tr>\n",
       "      <th>s</th>\n",
       "      <td>0.5</td>\n",
       "      <td>1.059449e-15</td>\n",
       "      <td>1.0</td>\n",
       "    </tr>\n",
       "    <tr>\n",
       "      <th>t</th>\n",
       "      <td>0.5</td>\n",
       "      <td>1.000000e+00</td>\n",
       "      <td>0.0</td>\n",
       "    </tr>\n",
       "  </tbody>\n",
       "</table>\n",
       "</div>"
      ],
      "text/plain": [
       "     2             1    0\n",
       "s  0.5  1.059449e-15  1.0\n",
       "t  0.5  1.000000e+00  0.0"
      ]
     },
     "metadata": {},
     "output_type": "display_data"
    },
    {
     "data": {
      "text/html": [
       "<div>\n",
       "<style>\n",
       "    .dataframe thead tr:only-child th {\n",
       "        text-align: right;\n",
       "    }\n",
       "\n",
       "    .dataframe thead th {\n",
       "        text-align: left;\n",
       "    }\n",
       "\n",
       "    .dataframe tbody tr th {\n",
       "        vertical-align: top;\n",
       "    }\n",
       "</style>\n",
       "<table border=\"1\" class=\"dataframe\">\n",
       "  <thead>\n",
       "    <tr>\n",
       "      <th></th>\n",
       "      <th colspan=\"2\" halign=\"left\">s</th>\n",
       "      <th colspan=\"2\" halign=\"left\">t</th>\n",
       "    </tr>\n",
       "    <tr>\n",
       "      <th></th>\n",
       "      <th>s</th>\n",
       "      <th>t</th>\n",
       "      <th>s</th>\n",
       "      <th>t</th>\n",
       "    </tr>\n",
       "  </thead>\n",
       "  <tbody>\n",
       "    <tr>\n",
       "      <th>0</th>\n",
       "      <td>0.0</td>\n",
       "      <td>2.414046</td>\n",
       "      <td>0.000000</td>\n",
       "      <td>0.0</td>\n",
       "    </tr>\n",
       "    <tr>\n",
       "      <th>1</th>\n",
       "      <td>0.0</td>\n",
       "      <td>0.000000</td>\n",
       "      <td>1.207023</td>\n",
       "      <td>0.0</td>\n",
       "    </tr>\n",
       "  </tbody>\n",
       "</table>\n",
       "</div>"
      ],
      "text/plain": [
       "     s                   t     \n",
       "     s         t         s    t\n",
       "0  0.0  2.414046  0.000000  0.0\n",
       "1  0.0  0.000000  1.207023  0.0"
      ]
     },
     "metadata": {},
     "output_type": "display_data"
    },
    {
     "data": {
      "text/html": [
       "<div>\n",
       "<style>\n",
       "    .dataframe thead tr:only-child th {\n",
       "        text-align: right;\n",
       "    }\n",
       "\n",
       "    .dataframe thead th {\n",
       "        text-align: left;\n",
       "    }\n",
       "\n",
       "    .dataframe tbody tr th {\n",
       "        vertical-align: top;\n",
       "    }\n",
       "</style>\n",
       "<table border=\"1\" class=\"dataframe\">\n",
       "  <thead>\n",
       "    <tr style=\"text-align: right;\">\n",
       "      <th></th>\n",
       "      <th>0</th>\n",
       "      <th>1</th>\n",
       "      <th>2</th>\n",
       "    </tr>\n",
       "  </thead>\n",
       "  <tbody>\n",
       "    <tr>\n",
       "      <th>s</th>\n",
       "      <td>2.414046</td>\n",
       "      <td>0.000000</td>\n",
       "      <td>2.414046</td>\n",
       "    </tr>\n",
       "    <tr>\n",
       "      <th>t</th>\n",
       "      <td>0.000000</td>\n",
       "      <td>1.207023</td>\n",
       "      <td>0.000000</td>\n",
       "    </tr>\n",
       "  </tbody>\n",
       "</table>\n",
       "</div>"
      ],
      "text/plain": [
       "          0         1         2\n",
       "s  2.414046  0.000000  2.414046\n",
       "t  0.000000  1.207023  0.000000"
      ]
     },
     "metadata": {},
     "output_type": "display_data"
    },
    {
     "data": {
      "text/plain": [
       "('A', 'B', 'B', 'A')"
      ]
     },
     "metadata": {},
     "output_type": "display_data"
    },
    {
     "data": {
      "text/html": [
       "<div>\n",
       "<style>\n",
       "    .dataframe thead tr:only-child th {\n",
       "        text-align: right;\n",
       "    }\n",
       "\n",
       "    .dataframe thead th {\n",
       "        text-align: left;\n",
       "    }\n",
       "\n",
       "    .dataframe tbody tr th {\n",
       "        vertical-align: top;\n",
       "    }\n",
       "</style>\n",
       "<table border=\"1\" class=\"dataframe\">\n",
       "  <thead>\n",
       "    <tr style=\"text-align: right;\">\n",
       "      <th></th>\n",
       "      <th>0</th>\n",
       "      <th>1</th>\n",
       "      <th>2</th>\n",
       "      <th>3</th>\n",
       "    </tr>\n",
       "  </thead>\n",
       "  <tbody>\n",
       "    <tr>\n",
       "      <th>s</th>\n",
       "      <td>0.0</td>\n",
       "      <td>1.0</td>\n",
       "      <td>1.0</td>\n",
       "      <td>0.0</td>\n",
       "    </tr>\n",
       "    <tr>\n",
       "      <th>t</th>\n",
       "      <td>1.0</td>\n",
       "      <td>0.0</td>\n",
       "      <td>0.0</td>\n",
       "      <td>1.0</td>\n",
       "    </tr>\n",
       "  </tbody>\n",
       "</table>\n",
       "</div>"
      ],
      "text/plain": [
       "     0    1    2    3\n",
       "s  0.0  1.0  1.0  0.0\n",
       "t  1.0  0.0  0.0  1.0"
      ]
     },
     "metadata": {},
     "output_type": "display_data"
    },
    {
     "data": {
      "text/html": [
       "<div>\n",
       "<style>\n",
       "    .dataframe thead tr:only-child th {\n",
       "        text-align: right;\n",
       "    }\n",
       "\n",
       "    .dataframe thead th {\n",
       "        text-align: left;\n",
       "    }\n",
       "\n",
       "    .dataframe tbody tr th {\n",
       "        vertical-align: top;\n",
       "    }\n",
       "</style>\n",
       "<table border=\"1\" class=\"dataframe\">\n",
       "  <thead>\n",
       "    <tr style=\"text-align: right;\">\n",
       "      <th></th>\n",
       "      <th>3</th>\n",
       "      <th>2</th>\n",
       "      <th>1</th>\n",
       "      <th>0</th>\n",
       "    </tr>\n",
       "  </thead>\n",
       "  <tbody>\n",
       "    <tr>\n",
       "      <th>s</th>\n",
       "      <td>0.5</td>\n",
       "      <td>1.0</td>\n",
       "      <td>1.059449e-15</td>\n",
       "      <td>1.059449e-15</td>\n",
       "    </tr>\n",
       "    <tr>\n",
       "      <th>t</th>\n",
       "      <td>0.5</td>\n",
       "      <td>0.0</td>\n",
       "      <td>1.000000e+00</td>\n",
       "      <td>1.000000e+00</td>\n",
       "    </tr>\n",
       "  </tbody>\n",
       "</table>\n",
       "</div>"
      ],
      "text/plain": [
       "     3    2             1             0\n",
       "s  0.5  1.0  1.059449e-15  1.059449e-15\n",
       "t  0.5  0.0  1.000000e+00  1.000000e+00"
      ]
     },
     "metadata": {},
     "output_type": "display_data"
    },
    {
     "data": {
      "text/html": [
       "<div>\n",
       "<style>\n",
       "    .dataframe thead tr:only-child th {\n",
       "        text-align: right;\n",
       "    }\n",
       "\n",
       "    .dataframe thead th {\n",
       "        text-align: left;\n",
       "    }\n",
       "\n",
       "    .dataframe tbody tr th {\n",
       "        vertical-align: top;\n",
       "    }\n",
       "</style>\n",
       "<table border=\"1\" class=\"dataframe\">\n",
       "  <thead>\n",
       "    <tr>\n",
       "      <th></th>\n",
       "      <th colspan=\"2\" halign=\"left\">s</th>\n",
       "      <th colspan=\"2\" halign=\"left\">t</th>\n",
       "    </tr>\n",
       "    <tr>\n",
       "      <th></th>\n",
       "      <th>s</th>\n",
       "      <th>t</th>\n",
       "      <th>s</th>\n",
       "      <th>t</th>\n",
       "    </tr>\n",
       "  </thead>\n",
       "  <tbody>\n",
       "    <tr>\n",
       "      <th>0</th>\n",
       "      <td>0.00000</td>\n",
       "      <td>0.000000e+00</td>\n",
       "      <td>1.70719</td>\n",
       "      <td>0.0</td>\n",
       "    </tr>\n",
       "    <tr>\n",
       "      <th>1</th>\n",
       "      <td>1.70719</td>\n",
       "      <td>0.000000e+00</td>\n",
       "      <td>0.00000</td>\n",
       "      <td>0.0</td>\n",
       "    </tr>\n",
       "    <tr>\n",
       "      <th>2</th>\n",
       "      <td>0.00000</td>\n",
       "      <td>8.056970e+14</td>\n",
       "      <td>0.00000</td>\n",
       "      <td>0.0</td>\n",
       "    </tr>\n",
       "  </tbody>\n",
       "</table>\n",
       "</div>"
      ],
      "text/plain": [
       "         s                      t     \n",
       "         s             t        s    t\n",
       "0  0.00000  0.000000e+00  1.70719  0.0\n",
       "1  1.70719  0.000000e+00  0.00000  0.0\n",
       "2  0.00000  8.056970e+14  0.00000  0.0"
      ]
     },
     "metadata": {},
     "output_type": "display_data"
    },
    {
     "data": {
      "text/html": [
       "<div>\n",
       "<style>\n",
       "    .dataframe thead tr:only-child th {\n",
       "        text-align: right;\n",
       "    }\n",
       "\n",
       "    .dataframe thead th {\n",
       "        text-align: left;\n",
       "    }\n",
       "\n",
       "    .dataframe tbody tr th {\n",
       "        vertical-align: top;\n",
       "    }\n",
       "</style>\n",
       "<table border=\"1\" class=\"dataframe\">\n",
       "  <thead>\n",
       "    <tr style=\"text-align: right;\">\n",
       "      <th></th>\n",
       "      <th>0</th>\n",
       "      <th>1</th>\n",
       "      <th>2</th>\n",
       "      <th>3</th>\n",
       "    </tr>\n",
       "  </thead>\n",
       "  <tbody>\n",
       "    <tr>\n",
       "      <th>s</th>\n",
       "      <td>0.00000</td>\n",
       "      <td>1.70719</td>\n",
       "      <td>8.056970e+14</td>\n",
       "      <td>0.000000e+00</td>\n",
       "    </tr>\n",
       "    <tr>\n",
       "      <th>t</th>\n",
       "      <td>1.70719</td>\n",
       "      <td>0.00000</td>\n",
       "      <td>0.000000e+00</td>\n",
       "      <td>1.611394e+15</td>\n",
       "    </tr>\n",
       "  </tbody>\n",
       "</table>\n",
       "</div>"
      ],
      "text/plain": [
       "         0        1             2             3\n",
       "s  0.00000  1.70719  8.056970e+14  0.000000e+00\n",
       "t  1.70719  0.00000  0.000000e+00  1.611394e+15"
      ]
     },
     "metadata": {},
     "output_type": "display_data"
    }
   ],
   "source": [
    "for seqtype in corpus:\n",
    "    display(seqtype)\n",
    "    display(corpus[seqtype]['alpha'])\n",
    "    display(corpus[seqtype]['beta'])\n",
    "    display(corpus[seqtype]['gamma'])\n",
    "    display(corpus[seqtype]['delta'])"
   ]
  },
  {
   "cell_type": "code",
   "execution_count": null,
   "metadata": {
    "collapsed": true
   },
   "outputs": [],
   "source": []
  },
  {
   "cell_type": "code",
   "execution_count": null,
   "metadata": {
    "collapsed": true
   },
   "outputs": [],
   "source": []
  },
  {
   "cell_type": "code",
   "execution_count": null,
   "metadata": {
    "collapsed": true
   },
   "outputs": [],
   "source": []
  },
  {
   "cell_type": "code",
   "execution_count": null,
   "metadata": {
    "collapsed": true
   },
   "outputs": [],
   "source": []
  }
 ],
 "metadata": {
  "kernelspec": {
   "display_name": "Python 3",
   "language": "python",
   "name": "python3"
  },
  "language_info": {
   "codemirror_mode": {
    "name": "ipython",
    "version": 3
   },
   "file_extension": ".py",
   "mimetype": "text/x-python",
   "name": "python",
   "nbconvert_exporter": "python",
   "pygments_lexer": "ipython3",
   "version": "3.6.2"
  }
 },
 "nbformat": 4,
 "nbformat_minor": 2
}
